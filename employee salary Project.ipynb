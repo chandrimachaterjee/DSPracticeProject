{
 "cells": [
  {
   "cell_type": "code",
   "execution_count": 2,
   "metadata": {},
   "outputs": [],
   "source": [
    "import numpy as np\n",
    "import pandas as pd\n",
    "from sklearn.linear_model import LinearRegression\n",
    "from sklearn.model_selection import train_test_split\n",
    "\n",
    "import matplotlib.pyplot as plt\n",
    "\n",
    "import seaborn as sb\n",
    "import seaborn as sns"
   ]
  },
  {
   "cell_type": "code",
   "execution_count": 6,
   "metadata": {},
   "outputs": [
    {
     "data": {
      "text/html": [
       "<div>\n",
       "<style scoped>\n",
       "    .dataframe tbody tr th:only-of-type {\n",
       "        vertical-align: middle;\n",
       "    }\n",
       "\n",
       "    .dataframe tbody tr th {\n",
       "        vertical-align: top;\n",
       "    }\n",
       "\n",
       "    .dataframe thead th {\n",
       "        text-align: right;\n",
       "    }\n",
       "</style>\n",
       "<table border=\"1\" class=\"dataframe\">\n",
       "  <thead>\n",
       "    <tr style=\"text-align: right;\">\n",
       "      <th></th>\n",
       "      <th>Emp ID</th>\n",
       "      <th>Name Prefix</th>\n",
       "      <th>First Name</th>\n",
       "      <th>Middle Initial</th>\n",
       "      <th>Last Name</th>\n",
       "      <th>Gender</th>\n",
       "      <th>E Mail</th>\n",
       "      <th>Father's Name</th>\n",
       "      <th>Mother's Name</th>\n",
       "      <th>Mother's Maiden Name</th>\n",
       "      <th>...</th>\n",
       "      <th>SSN</th>\n",
       "      <th>Phone No.</th>\n",
       "      <th>Place Name</th>\n",
       "      <th>County</th>\n",
       "      <th>City</th>\n",
       "      <th>State</th>\n",
       "      <th>Zip</th>\n",
       "      <th>Region</th>\n",
       "      <th>User Name</th>\n",
       "      <th>Password</th>\n",
       "    </tr>\n",
       "  </thead>\n",
       "  <tbody>\n",
       "    <tr>\n",
       "      <th>0</th>\n",
       "      <td>850297</td>\n",
       "      <td>Ms.</td>\n",
       "      <td>Shawna</td>\n",
       "      <td>W</td>\n",
       "      <td>Buck</td>\n",
       "      <td>F</td>\n",
       "      <td>shawna.buck@gmail.com</td>\n",
       "      <td>Rosario Buck</td>\n",
       "      <td>Keisha Buck</td>\n",
       "      <td>Hendricks</td>\n",
       "      <td>...</td>\n",
       "      <td>222-11-7603</td>\n",
       "      <td>702-771-7149</td>\n",
       "      <td>Las Vegas</td>\n",
       "      <td>Clark</td>\n",
       "      <td>Las Vegas</td>\n",
       "      <td>NV</td>\n",
       "      <td>89128</td>\n",
       "      <td>West</td>\n",
       "      <td>swbuck</td>\n",
       "      <td>ja8?k3BTF^]o@&lt;&amp;</td>\n",
       "    </tr>\n",
       "    <tr>\n",
       "      <th>1</th>\n",
       "      <td>304721</td>\n",
       "      <td>Mr.</td>\n",
       "      <td>Nathaniel</td>\n",
       "      <td>Z</td>\n",
       "      <td>Burke</td>\n",
       "      <td>M</td>\n",
       "      <td>nathaniel.burke@walmart.com</td>\n",
       "      <td>Derrick Burke</td>\n",
       "      <td>Phoebe Burke</td>\n",
       "      <td>Pugh</td>\n",
       "      <td>...</td>\n",
       "      <td>550-99-9897</td>\n",
       "      <td>231-765-6923</td>\n",
       "      <td>Irons</td>\n",
       "      <td>Lake</td>\n",
       "      <td>Irons</td>\n",
       "      <td>MI</td>\n",
       "      <td>49644</td>\n",
       "      <td>Midwest</td>\n",
       "      <td>nzburke</td>\n",
       "      <td>tPA@4Wh9Ja$+Ln</td>\n",
       "    </tr>\n",
       "    <tr>\n",
       "      <th>2</th>\n",
       "      <td>412317</td>\n",
       "      <td>Drs.</td>\n",
       "      <td>Elisabeth</td>\n",
       "      <td>W</td>\n",
       "      <td>Foster</td>\n",
       "      <td>F</td>\n",
       "      <td>elisabeth.foster@gmail.com</td>\n",
       "      <td>Irwin Foster</td>\n",
       "      <td>Janie Foster</td>\n",
       "      <td>Delaney</td>\n",
       "      <td>...</td>\n",
       "      <td>215-91-0004</td>\n",
       "      <td>270-749-4774</td>\n",
       "      <td>Lexington</td>\n",
       "      <td>Fayette</td>\n",
       "      <td>Lexington</td>\n",
       "      <td>KY</td>\n",
       "      <td>40501</td>\n",
       "      <td>South</td>\n",
       "      <td>ewfoster</td>\n",
       "      <td>5D.B4IGNkWJfG&lt;~</td>\n",
       "    </tr>\n",
       "    <tr>\n",
       "      <th>3</th>\n",
       "      <td>621375</td>\n",
       "      <td>Mrs.</td>\n",
       "      <td>Briana</td>\n",
       "      <td>C</td>\n",
       "      <td>Lancaster</td>\n",
       "      <td>F</td>\n",
       "      <td>briana.lancaster@yahoo.com</td>\n",
       "      <td>Jeffrey Lancaster</td>\n",
       "      <td>Shelby Lancaster</td>\n",
       "      <td>Weiss</td>\n",
       "      <td>...</td>\n",
       "      <td>534-71-1053</td>\n",
       "      <td>219-623-8216</td>\n",
       "      <td>Munster</td>\n",
       "      <td>Lake</td>\n",
       "      <td>Munster</td>\n",
       "      <td>IN</td>\n",
       "      <td>46321</td>\n",
       "      <td>Midwest</td>\n",
       "      <td>bclancaster</td>\n",
       "      <td>I%?JDM;pW</td>\n",
       "    </tr>\n",
       "    <tr>\n",
       "      <th>4</th>\n",
       "      <td>787549</td>\n",
       "      <td>Hon.</td>\n",
       "      <td>Estella</td>\n",
       "      <td>L</td>\n",
       "      <td>Potter</td>\n",
       "      <td>F</td>\n",
       "      <td>estella.potter@gmail.com</td>\n",
       "      <td>Booker Potter</td>\n",
       "      <td>Katelyn Potter</td>\n",
       "      <td>Pate</td>\n",
       "      <td>...</td>\n",
       "      <td>644-29-6396</td>\n",
       "      <td>907-677-8486</td>\n",
       "      <td>Fairbanks</td>\n",
       "      <td>Fairbanks North Star</td>\n",
       "      <td>Fairbanks</td>\n",
       "      <td>AK</td>\n",
       "      <td>99709</td>\n",
       "      <td>West</td>\n",
       "      <td>elpotter</td>\n",
       "      <td>j4jkEXfC&amp;Rh</td>\n",
       "    </tr>\n",
       "    <tr>\n",
       "      <th>...</th>\n",
       "      <td>...</td>\n",
       "      <td>...</td>\n",
       "      <td>...</td>\n",
       "      <td>...</td>\n",
       "      <td>...</td>\n",
       "      <td>...</td>\n",
       "      <td>...</td>\n",
       "      <td>...</td>\n",
       "      <td>...</td>\n",
       "      <td>...</td>\n",
       "      <td>...</td>\n",
       "      <td>...</td>\n",
       "      <td>...</td>\n",
       "      <td>...</td>\n",
       "      <td>...</td>\n",
       "      <td>...</td>\n",
       "      <td>...</td>\n",
       "      <td>...</td>\n",
       "      <td>...</td>\n",
       "      <td>...</td>\n",
       "      <td>...</td>\n",
       "    </tr>\n",
       "    <tr>\n",
       "      <th>995</th>\n",
       "      <td>568435</td>\n",
       "      <td>Ms.</td>\n",
       "      <td>Bonnie</td>\n",
       "      <td>K</td>\n",
       "      <td>Baker</td>\n",
       "      <td>F</td>\n",
       "      <td>bonnie.baker@bp.com</td>\n",
       "      <td>Edwardo Baker</td>\n",
       "      <td>Pauline Baker</td>\n",
       "      <td>Robinson</td>\n",
       "      <td>...</td>\n",
       "      <td>064-02-6162</td>\n",
       "      <td>262-696-9171</td>\n",
       "      <td>Mukwonago</td>\n",
       "      <td>Waukesha</td>\n",
       "      <td>Mukwonago</td>\n",
       "      <td>WI</td>\n",
       "      <td>53149</td>\n",
       "      <td>Midwest</td>\n",
       "      <td>bkbaker</td>\n",
       "      <td>a?Co:/r;nu_wTQ</td>\n",
       "    </tr>\n",
       "    <tr>\n",
       "      <th>996</th>\n",
       "      <td>597409</td>\n",
       "      <td>Mr.</td>\n",
       "      <td>Luke</td>\n",
       "      <td>S</td>\n",
       "      <td>Turner</td>\n",
       "      <td>M</td>\n",
       "      <td>luke.turner@charter.net</td>\n",
       "      <td>Javier Turner</td>\n",
       "      <td>Nicole Turner</td>\n",
       "      <td>Sykes</td>\n",
       "      <td>...</td>\n",
       "      <td>056-02-8240</td>\n",
       "      <td>231-629-0498</td>\n",
       "      <td>Freeport</td>\n",
       "      <td>Barry</td>\n",
       "      <td>Freeport</td>\n",
       "      <td>MI</td>\n",
       "      <td>49325</td>\n",
       "      <td>Midwest</td>\n",
       "      <td>lsturner</td>\n",
       "      <td>7n5@64VC7|</td>\n",
       "    </tr>\n",
       "    <tr>\n",
       "      <th>997</th>\n",
       "      <td>359608</td>\n",
       "      <td>Hon.</td>\n",
       "      <td>Eva</td>\n",
       "      <td>S</td>\n",
       "      <td>Holman</td>\n",
       "      <td>F</td>\n",
       "      <td>eva.holman@hotmail.com</td>\n",
       "      <td>Coy Holman</td>\n",
       "      <td>Haley Holman</td>\n",
       "      <td>Boyle</td>\n",
       "      <td>...</td>\n",
       "      <td>343-11-1935</td>\n",
       "      <td>209-912-6705</td>\n",
       "      <td>Turlock</td>\n",
       "      <td>Stanislaus</td>\n",
       "      <td>Turlock</td>\n",
       "      <td>CA</td>\n",
       "      <td>95381</td>\n",
       "      <td>West</td>\n",
       "      <td>esholman</td>\n",
       "      <td>DG&lt;&lt;&lt;e}*WgD&lt;U</td>\n",
       "    </tr>\n",
       "    <tr>\n",
       "      <th>998</th>\n",
       "      <td>803426</td>\n",
       "      <td>Mrs.</td>\n",
       "      <td>Maritza</td>\n",
       "      <td>H</td>\n",
       "      <td>Christian</td>\n",
       "      <td>F</td>\n",
       "      <td>maritza.christian@microsoft.com</td>\n",
       "      <td>Dion Christian</td>\n",
       "      <td>Stephanie Christian</td>\n",
       "      <td>Mooney</td>\n",
       "      <td>...</td>\n",
       "      <td>336-11-5030</td>\n",
       "      <td>203-224-9056</td>\n",
       "      <td>Stamford</td>\n",
       "      <td>Fairfield</td>\n",
       "      <td>Stamford</td>\n",
       "      <td>CT</td>\n",
       "      <td>6910</td>\n",
       "      <td>Northeast</td>\n",
       "      <td>mhchristian</td>\n",
       "      <td>Krs@#TnM</td>\n",
       "    </tr>\n",
       "    <tr>\n",
       "      <th>999</th>\n",
       "      <td>669618</td>\n",
       "      <td>Drs.</td>\n",
       "      <td>Phyllis</td>\n",
       "      <td>H</td>\n",
       "      <td>Dudley</td>\n",
       "      <td>F</td>\n",
       "      <td>phyllis.dudley@yahoo.co.in</td>\n",
       "      <td>Jarrod Dudley</td>\n",
       "      <td>Latisha Dudley</td>\n",
       "      <td>Wilcox</td>\n",
       "      <td>...</td>\n",
       "      <td>101-02-6501</td>\n",
       "      <td>405-970-2341</td>\n",
       "      <td>Meno</td>\n",
       "      <td>Major</td>\n",
       "      <td>Meno</td>\n",
       "      <td>OK</td>\n",
       "      <td>73760</td>\n",
       "      <td>South</td>\n",
       "      <td>phdudley</td>\n",
       "      <td>h6wt@400%&amp;Uu</td>\n",
       "    </tr>\n",
       "  </tbody>\n",
       "</table>\n",
       "<p>1000 rows × 37 columns</p>\n",
       "</div>"
      ],
      "text/plain": [
       "     Emp ID Name Prefix First Name Middle Initial  Last Name Gender  \\\n",
       "0    850297         Ms.     Shawna              W       Buck      F   \n",
       "1    304721         Mr.  Nathaniel              Z      Burke      M   \n",
       "2    412317        Drs.  Elisabeth              W     Foster      F   \n",
       "3    621375        Mrs.     Briana              C  Lancaster      F   \n",
       "4    787549        Hon.    Estella              L     Potter      F   \n",
       "..      ...         ...        ...            ...        ...    ...   \n",
       "995  568435         Ms.     Bonnie              K      Baker      F   \n",
       "996  597409         Mr.       Luke              S     Turner      M   \n",
       "997  359608        Hon.        Eva              S     Holman      F   \n",
       "998  803426        Mrs.    Maritza              H  Christian      F   \n",
       "999  669618        Drs.    Phyllis              H     Dudley      F   \n",
       "\n",
       "                              E Mail      Father's Name        Mother's Name  \\\n",
       "0              shawna.buck@gmail.com       Rosario Buck          Keisha Buck   \n",
       "1        nathaniel.burke@walmart.com      Derrick Burke         Phoebe Burke   \n",
       "2         elisabeth.foster@gmail.com       Irwin Foster         Janie Foster   \n",
       "3         briana.lancaster@yahoo.com  Jeffrey Lancaster     Shelby Lancaster   \n",
       "4           estella.potter@gmail.com      Booker Potter       Katelyn Potter   \n",
       "..                               ...                ...                  ...   \n",
       "995              bonnie.baker@bp.com      Edwardo Baker        Pauline Baker   \n",
       "996          luke.turner@charter.net      Javier Turner        Nicole Turner   \n",
       "997           eva.holman@hotmail.com         Coy Holman         Haley Holman   \n",
       "998  maritza.christian@microsoft.com     Dion Christian  Stephanie Christian   \n",
       "999       phyllis.dudley@yahoo.co.in      Jarrod Dudley       Latisha Dudley   \n",
       "\n",
       "    Mother's Maiden Name  ...          SSN    Phone No.   Place Name  \\\n",
       "0              Hendricks  ...  222-11-7603  702-771-7149   Las Vegas   \n",
       "1                   Pugh  ...  550-99-9897  231-765-6923       Irons   \n",
       "2                Delaney  ...  215-91-0004  270-749-4774   Lexington   \n",
       "3                  Weiss  ...  534-71-1053  219-623-8216     Munster   \n",
       "4                   Pate  ...  644-29-6396  907-677-8486   Fairbanks   \n",
       "..                   ...  ...          ...           ...         ...   \n",
       "995             Robinson  ...  064-02-6162  262-696-9171   Mukwonago   \n",
       "996                Sykes  ...  056-02-8240  231-629-0498    Freeport   \n",
       "997                Boyle  ...  343-11-1935  209-912-6705     Turlock   \n",
       "998               Mooney  ...  336-11-5030  203-224-9056    Stamford   \n",
       "999               Wilcox  ...  101-02-6501  405-970-2341        Meno   \n",
       "\n",
       "                   County       City State    Zip     Region    User Name  \\\n",
       "0                   Clark  Las Vegas    NV  89128       West       swbuck   \n",
       "1                    Lake      Irons    MI  49644    Midwest      nzburke   \n",
       "2                 Fayette  Lexington    KY  40501      South     ewfoster   \n",
       "3                    Lake    Munster    IN  46321    Midwest  bclancaster   \n",
       "4    Fairbanks North Star  Fairbanks    AK  99709       West     elpotter   \n",
       "..                    ...        ...   ...    ...        ...          ...   \n",
       "995              Waukesha  Mukwonago    WI  53149    Midwest      bkbaker   \n",
       "996                 Barry   Freeport    MI  49325    Midwest     lsturner   \n",
       "997            Stanislaus    Turlock    CA  95381       West     esholman   \n",
       "998             Fairfield   Stamford    CT   6910  Northeast  mhchristian   \n",
       "999                 Major       Meno    OK  73760      South     phdudley   \n",
       "\n",
       "            Password  \n",
       "0    ja8?k3BTF^]o@<&  \n",
       "1     tPA@4Wh9Ja$+Ln  \n",
       "2    5D.B4IGNkWJfG<~  \n",
       "3          I%?JDM;pW  \n",
       "4        j4jkEXfC&Rh  \n",
       "..               ...  \n",
       "995   a?Co:/r;nu_wTQ  \n",
       "996       7n5@64VC7|  \n",
       "997    DG<<<e}*WgD<U  \n",
       "998         Krs@#TnM  \n",
       "999     h6wt@400%&Uu  \n",
       "\n",
       "[1000 rows x 37 columns]"
      ]
     },
     "execution_count": 6,
     "metadata": {},
     "output_type": "execute_result"
    }
   ],
   "source": [
    "ds=pd.read_csv('employees_record.csv')\n",
    "ds"
   ]
  },
  {
   "cell_type": "code",
   "execution_count": 7,
   "metadata": {},
   "outputs": [],
   "source": [
    "data=pd.DataFrame(data=ds)"
   ]
  },
  {
   "cell_type": "code",
   "execution_count": 8,
   "metadata": {},
   "outputs": [
    {
     "data": {
      "text/plain": [
       "Emp ID                      int64\n",
       "Name Prefix                object\n",
       "First Name                 object\n",
       "Middle Initial             object\n",
       "Last Name                  object\n",
       "Gender                     object\n",
       "E Mail                     object\n",
       "Father's Name              object\n",
       "Mother's Name              object\n",
       "Mother's Maiden Name       object\n",
       "Date of Birth              object\n",
       "Time of Birth              object\n",
       "Age in Yrs.               float64\n",
       "Weight in Kgs.              int64\n",
       "Date of Joining            object\n",
       "Quarter of Joining         object\n",
       "Half of Joining            object\n",
       "Year of Joining             int64\n",
       "Month of Joining            int64\n",
       "Month Name of Joining      object\n",
       "Short Month                object\n",
       "Day of Joining              int64\n",
       "DOW of Joining             object\n",
       "Short DOW                  object\n",
       "Age in Company (Years)    float64\n",
       "Salary                      int64\n",
       "Last % Hike                object\n",
       "SSN                        object\n",
       "Phone No.                  object\n",
       "Place Name                 object\n",
       "County                     object\n",
       "City                       object\n",
       "State                      object\n",
       "Zip                         int64\n",
       "Region                     object\n",
       "User Name                  object\n",
       "Password                   object\n",
       "dtype: object"
      ]
     },
     "execution_count": 8,
     "metadata": {},
     "output_type": "execute_result"
    }
   ],
   "source": [
    "data.dtypes"
   ]
  },
  {
   "cell_type": "code",
   "execution_count": 5,
   "metadata": {},
   "outputs": [
    {
     "data": {
      "text/plain": [
       "<bound method DataFrame.info of      Emp ID Name Prefix First Name Middle Initial  Last Name Gender  \\\n",
       "0    850297         Ms.     Shawna              W       Buck      F   \n",
       "1    304721         Mr.  Nathaniel              Z      Burke      M   \n",
       "2    412317        Drs.  Elisabeth              W     Foster      F   \n",
       "3    621375        Mrs.     Briana              C  Lancaster      F   \n",
       "4    787549        Hon.    Estella              L     Potter      F   \n",
       "..      ...         ...        ...            ...        ...    ...   \n",
       "995  568435         Ms.     Bonnie              K      Baker      F   \n",
       "996  597409         Mr.       Luke              S     Turner      M   \n",
       "997  359608        Hon.        Eva              S     Holman      F   \n",
       "998  803426        Mrs.    Maritza              H  Christian      F   \n",
       "999  669618        Drs.    Phyllis              H     Dudley      F   \n",
       "\n",
       "                              E Mail      Father's Name        Mother's Name  \\\n",
       "0              shawna.buck@gmail.com       Rosario Buck          Keisha Buck   \n",
       "1        nathaniel.burke@walmart.com      Derrick Burke         Phoebe Burke   \n",
       "2         elisabeth.foster@gmail.com       Irwin Foster         Janie Foster   \n",
       "3         briana.lancaster@yahoo.com  Jeffrey Lancaster     Shelby Lancaster   \n",
       "4           estella.potter@gmail.com      Booker Potter       Katelyn Potter   \n",
       "..                               ...                ...                  ...   \n",
       "995              bonnie.baker@bp.com      Edwardo Baker        Pauline Baker   \n",
       "996          luke.turner@charter.net      Javier Turner        Nicole Turner   \n",
       "997           eva.holman@hotmail.com         Coy Holman         Haley Holman   \n",
       "998  maritza.christian@microsoft.com     Dion Christian  Stephanie Christian   \n",
       "999       phyllis.dudley@yahoo.co.in      Jarrod Dudley       Latisha Dudley   \n",
       "\n",
       "    Mother's Maiden Name  ...          SSN    Phone No.   Place Name  \\\n",
       "0              Hendricks  ...  222-11-7603  702-771-7149   Las Vegas   \n",
       "1                   Pugh  ...  550-99-9897  231-765-6923       Irons   \n",
       "2                Delaney  ...  215-91-0004  270-749-4774   Lexington   \n",
       "3                  Weiss  ...  534-71-1053  219-623-8216     Munster   \n",
       "4                   Pate  ...  644-29-6396  907-677-8486   Fairbanks   \n",
       "..                   ...  ...          ...           ...         ...   \n",
       "995             Robinson  ...  064-02-6162  262-696-9171   Mukwonago   \n",
       "996                Sykes  ...  056-02-8240  231-629-0498    Freeport   \n",
       "997                Boyle  ...  343-11-1935  209-912-6705     Turlock   \n",
       "998               Mooney  ...  336-11-5030  203-224-9056    Stamford   \n",
       "999               Wilcox  ...  101-02-6501  405-970-2341        Meno   \n",
       "\n",
       "                   County       City State    Zip     Region    User Name  \\\n",
       "0                   Clark  Las Vegas    NV  89128       West       swbuck   \n",
       "1                    Lake      Irons    MI  49644    Midwest      nzburke   \n",
       "2                 Fayette  Lexington    KY  40501      South     ewfoster   \n",
       "3                    Lake    Munster    IN  46321    Midwest  bclancaster   \n",
       "4    Fairbanks North Star  Fairbanks    AK  99709       West     elpotter   \n",
       "..                    ...        ...   ...    ...        ...          ...   \n",
       "995              Waukesha  Mukwonago    WI  53149    Midwest      bkbaker   \n",
       "996                 Barry   Freeport    MI  49325    Midwest     lsturner   \n",
       "997            Stanislaus    Turlock    CA  95381       West     esholman   \n",
       "998             Fairfield   Stamford    CT   6910  Northeast  mhchristian   \n",
       "999                 Major       Meno    OK  73760      South     phdudley   \n",
       "\n",
       "            Password  \n",
       "0    ja8?k3BTF^]o@<&  \n",
       "1     tPA@4Wh9Ja$+Ln  \n",
       "2    5D.B4IGNkWJfG<~  \n",
       "3          I%?JDM;pW  \n",
       "4        j4jkEXfC&Rh  \n",
       "..               ...  \n",
       "995   a?Co:/r;nu_wTQ  \n",
       "996       7n5@64VC7|  \n",
       "997    DG<<<e}*WgD<U  \n",
       "998         Krs@#TnM  \n",
       "999     h6wt@400%&Uu  \n",
       "\n",
       "[1000 rows x 37 columns]>"
      ]
     },
     "execution_count": 5,
     "metadata": {},
     "output_type": "execute_result"
    }
   ],
   "source": [
    "data.info"
   ]
  },
  {
   "cell_type": "code",
   "execution_count": 6,
   "metadata": {},
   "outputs": [
    {
     "data": {
      "text/plain": [
       "Index(['Emp ID', 'Name Prefix', 'First Name', 'Middle Initial', 'Last Name',\n",
       "       'Gender', 'E Mail', 'Father's Name', 'Mother's Name',\n",
       "       'Mother's Maiden Name', 'Date of Birth', 'Time of Birth', 'Age in Yrs.',\n",
       "       'Weight in Kgs.', 'Date of Joining', 'Quarter of Joining',\n",
       "       'Half of Joining', 'Year of Joining', 'Month of Joining',\n",
       "       'Month Name of Joining', 'Short Month', 'Day of Joining',\n",
       "       'DOW of Joining', 'Short DOW', 'Age in Company (Years)', 'Salary',\n",
       "       'Last % Hike', 'SSN', 'Phone No. ', 'Place Name', 'County', 'City',\n",
       "       'State', 'Zip', 'Region', 'User Name', 'Password'],\n",
       "      dtype='object')"
      ]
     },
     "execution_count": 6,
     "metadata": {},
     "output_type": "execute_result"
    }
   ],
   "source": [
    "data.columns"
   ]
  },
  {
   "cell_type": "code",
   "execution_count": 7,
   "metadata": {},
   "outputs": [
    {
     "data": {
      "text/html": [
       "<div>\n",
       "<style scoped>\n",
       "    .dataframe tbody tr th:only-of-type {\n",
       "        vertical-align: middle;\n",
       "    }\n",
       "\n",
       "    .dataframe tbody tr th {\n",
       "        vertical-align: top;\n",
       "    }\n",
       "\n",
       "    .dataframe thead th {\n",
       "        text-align: right;\n",
       "    }\n",
       "</style>\n",
       "<table border=\"1\" class=\"dataframe\">\n",
       "  <thead>\n",
       "    <tr style=\"text-align: right;\">\n",
       "      <th></th>\n",
       "      <th>Emp ID</th>\n",
       "      <th>Age in Yrs.</th>\n",
       "      <th>Weight in Kgs.</th>\n",
       "      <th>Year of Joining</th>\n",
       "      <th>Month of Joining</th>\n",
       "      <th>Day of Joining</th>\n",
       "      <th>Age in Company (Years)</th>\n",
       "      <th>Salary</th>\n",
       "      <th>Zip</th>\n",
       "    </tr>\n",
       "  </thead>\n",
       "  <tbody>\n",
       "    <tr>\n",
       "      <th>count</th>\n",
       "      <td>1000.000000</td>\n",
       "      <td>1000.000000</td>\n",
       "      <td>1000.000000</td>\n",
       "      <td>1000.000000</td>\n",
       "      <td>1000.000000</td>\n",
       "      <td>1000.000000</td>\n",
       "      <td>1000.000000</td>\n",
       "      <td>1000.000000</td>\n",
       "      <td>1000.000000</td>\n",
       "    </tr>\n",
       "    <tr>\n",
       "      <th>mean</th>\n",
       "      <td>549097.583000</td>\n",
       "      <td>40.377250</td>\n",
       "      <td>59.409000</td>\n",
       "      <td>2006.992000</td>\n",
       "      <td>6.415000</td>\n",
       "      <td>16.481000</td>\n",
       "      <td>10.093720</td>\n",
       "      <td>120288.528000</td>\n",
       "      <td>48698.499000</td>\n",
       "    </tr>\n",
       "    <tr>\n",
       "      <th>std</th>\n",
       "      <td>264810.879315</td>\n",
       "      <td>11.107729</td>\n",
       "      <td>13.900322</td>\n",
       "      <td>8.565588</td>\n",
       "      <td>3.428488</td>\n",
       "      <td>8.831514</td>\n",
       "      <td>8.568863</td>\n",
       "      <td>45178.339916</td>\n",
       "      <td>27396.021481</td>\n",
       "    </tr>\n",
       "    <tr>\n",
       "      <th>min</th>\n",
       "      <td>114425.000000</td>\n",
       "      <td>21.040000</td>\n",
       "      <td>40.000000</td>\n",
       "      <td>1980.000000</td>\n",
       "      <td>1.000000</td>\n",
       "      <td>1.000000</td>\n",
       "      <td>0.000000</td>\n",
       "      <td>40040.000000</td>\n",
       "      <td>1002.000000</td>\n",
       "    </tr>\n",
       "    <tr>\n",
       "      <th>25%</th>\n",
       "      <td>307757.000000</td>\n",
       "      <td>30.925000</td>\n",
       "      <td>49.000000</td>\n",
       "      <td>2002.000000</td>\n",
       "      <td>4.000000</td>\n",
       "      <td>9.000000</td>\n",
       "      <td>3.152500</td>\n",
       "      <td>82122.000000</td>\n",
       "      <td>25421.750000</td>\n",
       "    </tr>\n",
       "    <tr>\n",
       "      <th>50%</th>\n",
       "      <td>543073.000000</td>\n",
       "      <td>40.730000</td>\n",
       "      <td>57.000000</td>\n",
       "      <td>2009.000000</td>\n",
       "      <td>6.000000</td>\n",
       "      <td>17.000000</td>\n",
       "      <td>7.815000</td>\n",
       "      <td>119409.000000</td>\n",
       "      <td>47416.500000</td>\n",
       "    </tr>\n",
       "    <tr>\n",
       "      <th>75%</th>\n",
       "      <td>788450.250000</td>\n",
       "      <td>49.852500</td>\n",
       "      <td>68.000000</td>\n",
       "      <td>2014.000000</td>\n",
       "      <td>10.000000</td>\n",
       "      <td>24.000000</td>\n",
       "      <td>15.465000</td>\n",
       "      <td>159109.000000</td>\n",
       "      <td>71101.000000</td>\n",
       "    </tr>\n",
       "    <tr>\n",
       "      <th>max</th>\n",
       "      <td>999475.000000</td>\n",
       "      <td>59.980000</td>\n",
       "      <td>90.000000</td>\n",
       "      <td>2017.000000</td>\n",
       "      <td>12.000000</td>\n",
       "      <td>31.000000</td>\n",
       "      <td>37.570000</td>\n",
       "      <td>199943.000000</td>\n",
       "      <td>99791.000000</td>\n",
       "    </tr>\n",
       "  </tbody>\n",
       "</table>\n",
       "</div>"
      ],
      "text/plain": [
       "              Emp ID  Age in Yrs.  Weight in Kgs.  Year of Joining  \\\n",
       "count    1000.000000  1000.000000     1000.000000      1000.000000   \n",
       "mean   549097.583000    40.377250       59.409000      2006.992000   \n",
       "std    264810.879315    11.107729       13.900322         8.565588   \n",
       "min    114425.000000    21.040000       40.000000      1980.000000   \n",
       "25%    307757.000000    30.925000       49.000000      2002.000000   \n",
       "50%    543073.000000    40.730000       57.000000      2009.000000   \n",
       "75%    788450.250000    49.852500       68.000000      2014.000000   \n",
       "max    999475.000000    59.980000       90.000000      2017.000000   \n",
       "\n",
       "       Month of Joining  Day of Joining  Age in Company (Years)  \\\n",
       "count       1000.000000     1000.000000             1000.000000   \n",
       "mean           6.415000       16.481000               10.093720   \n",
       "std            3.428488        8.831514                8.568863   \n",
       "min            1.000000        1.000000                0.000000   \n",
       "25%            4.000000        9.000000                3.152500   \n",
       "50%            6.000000       17.000000                7.815000   \n",
       "75%           10.000000       24.000000               15.465000   \n",
       "max           12.000000       31.000000               37.570000   \n",
       "\n",
       "              Salary           Zip  \n",
       "count    1000.000000   1000.000000  \n",
       "mean   120288.528000  48698.499000  \n",
       "std     45178.339916  27396.021481  \n",
       "min     40040.000000   1002.000000  \n",
       "25%     82122.000000  25421.750000  \n",
       "50%    119409.000000  47416.500000  \n",
       "75%    159109.000000  71101.000000  \n",
       "max    199943.000000  99791.000000  "
      ]
     },
     "execution_count": 7,
     "metadata": {},
     "output_type": "execute_result"
    }
   ],
   "source": [
    "data.describe()"
   ]
  },
  {
   "cell_type": "code",
   "execution_count": 8,
   "metadata": {},
   "outputs": [
    {
     "data": {
      "text/plain": [
       "<matplotlib.axes._subplots.AxesSubplot at 0x166aee38130>"
      ]
     },
     "execution_count": 8,
     "metadata": {},
     "output_type": "execute_result"
    },
    {
     "data": {
      "image/png": "[encoded data removed]",
      "text/plain": [
       "<Figure size 432x288 with 1 Axes>"
      ]
     },
     "metadata": {
      "needs_background": "light"
     },
     "output_type": "display_data"
    }
   ],
   "source": [
    "data['Emp ID'].plot.box()"
   ]
  },
  {
   "cell_type": "code",
   "execution_count": 9,
   "metadata": {},
   "outputs": [
    {
     "data": {
      "text/plain": [
       "<matplotlib.axes._subplots.AxesSubplot at 0x166aeff47c0>"
      ]
     },
     "execution_count": 9,
     "metadata": {},
     "output_type": "execute_result"
    },
    {
     "data": {
      "image/png": "[encoded data removed]",
      "text/plain": [
       "<Figure size 432x288 with 1 Axes>"
      ]
     },
     "metadata": {
      "needs_background": "light"
     },
     "output_type": "display_data"
    }
   ],
   "source": [
    "data['Year of Joining'].plot.box()"
   ]
  },
  {
   "cell_type": "code",
   "execution_count": 10,
   "metadata": {},
   "outputs": [
    {
     "data": {
      "text/plain": [
       "<matplotlib.axes._subplots.AxesSubplot at 0x166af05c730>"
      ]
     },
     "execution_count": 10,
     "metadata": {},
     "output_type": "execute_result"
    },
    {
     "data": {
      "image/png": "[encoded data removed]",
      "text/plain": [
       "<Figure size 432x288 with 1 Axes>"
      ]
     },
     "metadata": {
      "needs_background": "light"
     },
     "output_type": "display_data"
    }
   ],
   "source": [
    "data['Age in Yrs.'].plot.box()"
   ]
  },
  {
   "cell_type": "code",
   "execution_count": 11,
   "metadata": {},
   "outputs": [
    {
     "data": {
      "text/plain": [
       "Emp ID                       AxesSubplot(0.125,0.536818;0.133621x0.343182)\n",
       "Age in Yrs.               AxesSubplot(0.285345,0.536818;0.133621x0.343182)\n",
       "Weight in Kgs.             AxesSubplot(0.44569,0.536818;0.133621x0.343182)\n",
       "Year of Joining           AxesSubplot(0.606034,0.536818;0.133621x0.343182)\n",
       "Month of Joining          AxesSubplot(0.766379,0.536818;0.133621x0.343182)\n",
       "Day of Joining                  AxesSubplot(0.125,0.125;0.133621x0.343182)\n",
       "Age in Company (Years)       AxesSubplot(0.285345,0.125;0.133621x0.343182)\n",
       "Salary                        AxesSubplot(0.44569,0.125;0.133621x0.343182)\n",
       "Zip                          AxesSubplot(0.606034,0.125;0.133621x0.343182)\n",
       "dtype: object"
      ]
     },
     "execution_count": 11,
     "metadata": {},
     "output_type": "execute_result"
    },
    {
     "data": {
      "image/png": "[encoded data removed]",
      "text/plain": [
       "<Figure size 432x288 with 10 Axes>"
      ]
     },
     "metadata": {
      "needs_background": "light"
     },
     "output_type": "display_data"
    }
   ],
   "source": [
    "data.plot(kind='box',subplots=True,layout=(2,5))"
   ]
  },
  {
   "cell_type": "code",
   "execution_count": 12,
   "metadata": {},
   "outputs": [
    {
     "data": {
      "text/plain": [
       "<matplotlib.axes._subplots.AxesSubplot at 0x166af3a4490>"
      ]
     },
     "execution_count": 12,
     "metadata": {},
     "output_type": "execute_result"
    },
    {
     "data": {
      "image/png": "[encoded data removed]",
      "text/plain": [
       "<Figure size 432x288 with 2 Axes>"
      ]
     },
     "metadata": {
      "needs_background": "light"
     },
     "output_type": "display_data"
    }
   ],
   "source": [
    "sb.heatmap(data.isnull())"
   ]
  },
  {
   "cell_type": "code",
   "execution_count": 13,
   "metadata": {},
   "outputs": [
    {
     "data": {
      "text/plain": [
       "<matplotlib.axes._subplots.AxesSubplot at 0x166af18aa30>"
      ]
     },
     "execution_count": 13,
     "metadata": {},
     "output_type": "execute_result"
    },
    {
     "data": {
      "image/png": "[encoded data removed]",
      "text/plain": [
       "<Figure size 432x288 with 2 Axes>"
      ]
     },
     "metadata": {
      "needs_background": "light"
     },
     "output_type": "display_data"
    }
   ],
   "source": [
    "sb.heatmap(data.corr(),annot=True)"
   ]
  },
  {
   "cell_type": "code",
   "execution_count": 14,
   "metadata": {},
   "outputs": [
    {
     "data": {
      "text/plain": [
       "<matplotlib.axes._subplots.AxesSubplot at 0x166af742cd0>"
      ]
     },
     "execution_count": 14,
     "metadata": {},
     "output_type": "execute_result"
    },
    {
     "data": {
      "image/png": "[encoded data removed]",
      "text/plain": [
       "<Figure size 432x288 with 1 Axes>"
      ]
     },
     "metadata": {
      "needs_background": "light"
     },
     "output_type": "display_data"
    }
   ],
   "source": [
    "data['Age in Company (Years)'].plot.hist()"
   ]
  },
  {
   "cell_type": "code",
   "execution_count": 15,
   "metadata": {},
   "outputs": [
    {
     "data": {
      "text/plain": [
       "<matplotlib.axes._subplots.AxesSubplot at 0x166af7d6a90>"
      ]
     },
     "execution_count": 15,
     "metadata": {},
     "output_type": "execute_result"
    },
    {
     "data": {
      "image/png": "[encoded data removed]",
      "text/plain": [
       "<Figure size 432x288 with 1 Axes>"
      ]
     },
     "metadata": {
      "needs_background": "light"
     },
     "output_type": "display_data"
    }
   ],
   "source": [
    "data['Salary'].plot.hist()"
   ]
  },
  {
   "cell_type": "code",
   "execution_count": 16,
   "metadata": {},
   "outputs": [
    {
     "data": {
      "text/plain": [
       "<matplotlib.axes._subplots.AxesSubplot at 0x166af8498b0>"
      ]
     },
     "execution_count": 16,
     "metadata": {},
     "output_type": "execute_result"
    },
    {
     "data": {
      "image/png": "[encoded data removed]",
      "text/plain": [
       "<Figure size 432x288 with 1 Axes>"
      ]
     },
     "metadata": {
      "needs_background": "light"
     },
     "output_type": "display_data"
    }
   ],
   "source": [
    "data['Year of Joining'].plot.hist()"
   ]
  },
  {
   "cell_type": "code",
   "execution_count": 17,
   "metadata": {},
   "outputs": [],
   "source": [
    "import numpy as np\n",
    "data['Year of Joining']=np.log(data['Year of Joining'])"
   ]
  },
  {
   "cell_type": "code",
   "execution_count": 18,
   "metadata": {},
   "outputs": [
    {
     "data": {
      "text/plain": [
       "<matplotlib.axes._subplots.AxesSubplot at 0x166b08710d0>"
      ]
     },
     "execution_count": 18,
     "metadata": {},
     "output_type": "execute_result"
    },
    {
     "data": {
      "image/png": "[encoded data removed]",
      "text/plain": [
       "<Figure size 432x288 with 1 Axes>"
      ]
     },
     "metadata": {
      "needs_background": "light"
     },
     "output_type": "display_data"
    }
   ],
   "source": [
    "data['Year of Joining'].plot.hist()"
   ]
  },
  {
   "cell_type": "code",
   "execution_count": 19,
   "metadata": {},
   "outputs": [
    {
     "data": {
      "text/plain": [
       "<matplotlib.axes._subplots.AxesSubplot at 0x166af802f10>"
      ]
     },
     "execution_count": 19,
     "metadata": {},
     "output_type": "execute_result"
    },
    {
     "data": {
      "image/png": "[encoded data removed]",
      "text/plain": [
       "<Figure size 432x288 with 1 Axes>"
      ]
     },
     "metadata": {
      "needs_background": "light"
     },
     "output_type": "display_data"
    }
   ],
   "source": [
    "sb.distplot(data['Year of Joining'])"
   ]
  },
  {
   "cell_type": "code",
   "execution_count": 20,
   "metadata": {},
   "outputs": [
    {
     "data": {
      "text/plain": [
       "<matplotlib.axes._subplots.AxesSubplot at 0x166b0964d30>"
      ]
     },
     "execution_count": 20,
     "metadata": {},
     "output_type": "execute_result"
    },
    {
     "data": {
      "image/png": "[encoded data removed]",
      "text/plain": [
       "<Figure size 432x288 with 2 Axes>"
      ]
     },
     "metadata": {
      "needs_background": "light"
     },
     "output_type": "display_data"
    }
   ],
   "source": [
    "sns.heatmap(data.isnull())"
   ]
  },
  {
   "cell_type": "code",
   "execution_count": 21,
   "metadata": {},
   "outputs": [
    {
     "data": {
      "text/html": [
       "<div>\n",
       "<style scoped>\n",
       "    .dataframe tbody tr th:only-of-type {\n",
       "        vertical-align: middle;\n",
       "    }\n",
       "\n",
       "    .dataframe tbody tr th {\n",
       "        vertical-align: top;\n",
       "    }\n",
       "\n",
       "    .dataframe thead th {\n",
       "        text-align: right;\n",
       "    }\n",
       "</style>\n",
       "<table border=\"1\" class=\"dataframe\">\n",
       "  <thead>\n",
       "    <tr style=\"text-align: right;\">\n",
       "      <th></th>\n",
       "      <th>Emp ID</th>\n",
       "      <th>Age in Yrs.</th>\n",
       "      <th>Weight in Kgs.</th>\n",
       "      <th>Year of Joining</th>\n",
       "      <th>Month of Joining</th>\n",
       "      <th>Day of Joining</th>\n",
       "      <th>Age in Company (Years)</th>\n",
       "      <th>Salary</th>\n",
       "      <th>Zip</th>\n",
       "    </tr>\n",
       "  </thead>\n",
       "  <tbody>\n",
       "    <tr>\n",
       "      <th>Emp ID</th>\n",
       "      <td>1.000000</td>\n",
       "      <td>-0.028516</td>\n",
       "      <td>0.028175</td>\n",
       "      <td>0.038888</td>\n",
       "      <td>0.000999</td>\n",
       "      <td>0.006178</td>\n",
       "      <td>-0.039064</td>\n",
       "      <td>-0.027248</td>\n",
       "      <td>0.020033</td>\n",
       "    </tr>\n",
       "    <tr>\n",
       "      <th>Age in Yrs.</th>\n",
       "      <td>-0.028516</td>\n",
       "      <td>1.000000</td>\n",
       "      <td>-0.065656</td>\n",
       "      <td>-0.676524</td>\n",
       "      <td>0.022617</td>\n",
       "      <td>-0.026387</td>\n",
       "      <td>0.676408</td>\n",
       "      <td>0.041422</td>\n",
       "      <td>-0.017266</td>\n",
       "    </tr>\n",
       "    <tr>\n",
       "      <th>Weight in Kgs.</th>\n",
       "      <td>0.028175</td>\n",
       "      <td>-0.065656</td>\n",
       "      <td>1.000000</td>\n",
       "      <td>0.058895</td>\n",
       "      <td>0.003933</td>\n",
       "      <td>-0.038591</td>\n",
       "      <td>-0.058846</td>\n",
       "      <td>0.061088</td>\n",
       "      <td>-0.021019</td>\n",
       "    </tr>\n",
       "    <tr>\n",
       "      <th>Year of Joining</th>\n",
       "      <td>0.038888</td>\n",
       "      <td>-0.676524</td>\n",
       "      <td>0.058895</td>\n",
       "      <td>1.000000</td>\n",
       "      <td>-0.029410</td>\n",
       "      <td>0.040800</td>\n",
       "      <td>-0.999440</td>\n",
       "      <td>-0.053429</td>\n",
       "      <td>0.027247</td>\n",
       "    </tr>\n",
       "    <tr>\n",
       "      <th>Month of Joining</th>\n",
       "      <td>0.000999</td>\n",
       "      <td>0.022617</td>\n",
       "      <td>0.003933</td>\n",
       "      <td>-0.029410</td>\n",
       "      <td>1.000000</td>\n",
       "      <td>0.046362</td>\n",
       "      <td>-0.003848</td>\n",
       "      <td>-0.019298</td>\n",
       "      <td>-0.028749</td>\n",
       "    </tr>\n",
       "    <tr>\n",
       "      <th>Day of Joining</th>\n",
       "      <td>0.006178</td>\n",
       "      <td>-0.026387</td>\n",
       "      <td>-0.038591</td>\n",
       "      <td>0.040800</td>\n",
       "      <td>0.046362</td>\n",
       "      <td>1.000000</td>\n",
       "      <td>-0.045185</td>\n",
       "      <td>-0.018947</td>\n",
       "      <td>0.028209</td>\n",
       "    </tr>\n",
       "    <tr>\n",
       "      <th>Age in Company (Years)</th>\n",
       "      <td>-0.039064</td>\n",
       "      <td>0.676408</td>\n",
       "      <td>-0.058846</td>\n",
       "      <td>-0.999440</td>\n",
       "      <td>-0.003848</td>\n",
       "      <td>-0.045185</td>\n",
       "      <td>1.000000</td>\n",
       "      <td>0.054212</td>\n",
       "      <td>-0.026359</td>\n",
       "    </tr>\n",
       "    <tr>\n",
       "      <th>Salary</th>\n",
       "      <td>-0.027248</td>\n",
       "      <td>0.041422</td>\n",
       "      <td>0.061088</td>\n",
       "      <td>-0.053429</td>\n",
       "      <td>-0.019298</td>\n",
       "      <td>-0.018947</td>\n",
       "      <td>0.054212</td>\n",
       "      <td>1.000000</td>\n",
       "      <td>0.007518</td>\n",
       "    </tr>\n",
       "    <tr>\n",
       "      <th>Zip</th>\n",
       "      <td>0.020033</td>\n",
       "      <td>-0.017266</td>\n",
       "      <td>-0.021019</td>\n",
       "      <td>0.027247</td>\n",
       "      <td>-0.028749</td>\n",
       "      <td>0.028209</td>\n",
       "      <td>-0.026359</td>\n",
       "      <td>0.007518</td>\n",
       "      <td>1.000000</td>\n",
       "    </tr>\n",
       "  </tbody>\n",
       "</table>\n",
       "</div>"
      ],
      "text/plain": [
       "                          Emp ID  Age in Yrs.  Weight in Kgs.  \\\n",
       "Emp ID                  1.000000    -0.028516        0.028175   \n",
       "Age in Yrs.            -0.028516     1.000000       -0.065656   \n",
       "Weight in Kgs.          0.028175    -0.065656        1.000000   \n",
       "Year of Joining         0.038888    -0.676524        0.058895   \n",
       "Month of Joining        0.000999     0.022617        0.003933   \n",
       "Day of Joining          0.006178    -0.026387       -0.038591   \n",
       "Age in Company (Years) -0.039064     0.676408       -0.058846   \n",
       "Salary                 -0.027248     0.041422        0.061088   \n",
       "Zip                     0.020033    -0.017266       -0.021019   \n",
       "\n",
       "                        Year of Joining  Month of Joining  Day of Joining  \\\n",
       "Emp ID                         0.038888          0.000999        0.006178   \n",
       "Age in Yrs.                   -0.676524          0.022617       -0.026387   \n",
       "Weight in Kgs.                 0.058895          0.003933       -0.038591   \n",
       "Year of Joining                1.000000         -0.029410        0.040800   \n",
       "Month of Joining              -0.029410          1.000000        0.046362   \n",
       "Day of Joining                 0.040800          0.046362        1.000000   \n",
       "Age in Company (Years)        -0.999440         -0.003848       -0.045185   \n",
       "Salary                        -0.053429         -0.019298       -0.018947   \n",
       "Zip                            0.027247         -0.028749        0.028209   \n",
       "\n",
       "                        Age in Company (Years)    Salary       Zip  \n",
       "Emp ID                               -0.039064 -0.027248  0.020033  \n",
       "Age in Yrs.                           0.676408  0.041422 -0.017266  \n",
       "Weight in Kgs.                       -0.058846  0.061088 -0.021019  \n",
       "Year of Joining                      -0.999440 -0.053429  0.027247  \n",
       "Month of Joining                     -0.003848 -0.019298 -0.028749  \n",
       "Day of Joining                       -0.045185 -0.018947  0.028209  \n",
       "Age in Company (Years)                1.000000  0.054212 -0.026359  \n",
       "Salary                                0.054212  1.000000  0.007518  \n",
       "Zip                                  -0.026359  0.007518  1.000000  "
      ]
     },
     "execution_count": 21,
     "metadata": {},
     "output_type": "execute_result"
    }
   ],
   "source": [
    "dfcor=data.corr()\n",
    "dfcor"
   ]
  },
  {
   "cell_type": "code",
   "execution_count": 22,
   "metadata": {},
   "outputs": [
    {
     "data": {
      "text/plain": [
       "<matplotlib.axes._subplots.AxesSubplot at 0x166b0b7f940>"
      ]
     },
     "execution_count": 22,
     "metadata": {},
     "output_type": "execute_result"
    },
    {
     "data": {
      "image/png": "[encoded data removed]",
      "text/plain": [
       "<Figure size 432x288 with 2 Axes>"
      ]
     },
     "metadata": {
      "needs_background": "light"
     },
     "output_type": "display_data"
    }
   ],
   "source": [
    "sns.heatmap(dfcor)"
   ]
  },
  {
   "cell_type": "code",
   "execution_count": 23,
   "metadata": {},
   "outputs": [
    {
     "data": {
      "text/plain": [
       "<matplotlib.axes._subplots.AxesSubplot at 0x166af024220>"
      ]
     },
     "execution_count": 23,
     "metadata": {},
     "output_type": "execute_result"
    },
    {
     "data": {
      "image/png": "[encoded data removed]",
      "text/plain": [
       "<Figure size 720x432 with 2 Axes>"
      ]
     },
     "metadata": {
      "needs_background": "light"
     },
     "output_type": "display_data"
    }
   ],
   "source": [
    "plt.figure(figsize=(10,6))\n",
    "sns.heatmap(dfcor,cmap='YlOrRd_r',annot=True)"
   ]
  },
  {
   "cell_type": "code",
   "execution_count": 24,
   "metadata": {},
   "outputs": [
    {
     "data": {
      "text/plain": [
       "Index(['Emp ID', 'Name Prefix', 'First Name', 'Middle Initial', 'Last Name',\n",
       "       'Gender', 'E Mail', 'Father's Name', 'Mother's Name',\n",
       "       'Mother's Maiden Name', 'Date of Birth', 'Time of Birth', 'Age in Yrs.',\n",
       "       'Weight in Kgs.', 'Date of Joining', 'Quarter of Joining',\n",
       "       'Half of Joining', 'Year of Joining', 'Month of Joining',\n",
       "       'Month Name of Joining', 'Short Month', 'Day of Joining',\n",
       "       'DOW of Joining', 'Short DOW', 'Age in Company (Years)', 'Salary',\n",
       "       'Last % Hike', 'SSN', 'Phone No. ', 'Place Name', 'County', 'City',\n",
       "       'State', 'Zip', 'Region', 'User Name', 'Password'],\n",
       "      dtype='object')"
      ]
     },
     "execution_count": 24,
     "metadata": {},
     "output_type": "execute_result"
    }
   ],
   "source": [
    "data.columns"
   ]
  },
  {
   "cell_type": "code",
   "execution_count": 25,
   "metadata": {},
   "outputs": [
    {
     "data": {
      "text/plain": [
       "<matplotlib.axes._subplots.AxesSubplot at 0x166af6d2490>"
      ]
     },
     "execution_count": 25,
     "metadata": {},
     "output_type": "execute_result"
    },
    {
     "data": {
      "image/png": "[encoded data removed]",
      "text/plain": [
       "<Figure size 432x288 with 1 Axes>"
      ]
     },
     "metadata": {
      "needs_background": "light"
     },
     "output_type": "display_data"
    }
   ],
   "source": [
    "data['Age in Company (Years)'].plot.box()"
   ]
  },
  {
   "cell_type": "code",
   "execution_count": 26,
   "metadata": {},
   "outputs": [
    {
     "data": {
      "text/plain": [
       "Emp ID                       AxesSubplot(0.125,0.536818;0.133621x0.343182)\n",
       "Age in Yrs.               AxesSubplot(0.285345,0.536818;0.133621x0.343182)\n",
       "Weight in Kgs.             AxesSubplot(0.44569,0.536818;0.133621x0.343182)\n",
       "Year of Joining           AxesSubplot(0.606034,0.536818;0.133621x0.343182)\n",
       "Month of Joining          AxesSubplot(0.766379,0.536818;0.133621x0.343182)\n",
       "Day of Joining                  AxesSubplot(0.125,0.125;0.133621x0.343182)\n",
       "Age in Company (Years)       AxesSubplot(0.285345,0.125;0.133621x0.343182)\n",
       "Salary                        AxesSubplot(0.44569,0.125;0.133621x0.343182)\n",
       "Zip                          AxesSubplot(0.606034,0.125;0.133621x0.343182)\n",
       "dtype: object"
      ]
     },
     "execution_count": 26,
     "metadata": {},
     "output_type": "execute_result"
    },
    {
     "data": {
      "image/png": "[encoded data removed]",
      "text/plain": [
       "<Figure size 432x288 with 10 Axes>"
      ]
     },
     "metadata": {
      "needs_background": "light"
     },
     "output_type": "display_data"
    }
   ],
   "source": [
    "data.plot(kind='box',subplots=True,layout=(2,5))"
   ]
  },
  {
   "cell_type": "code",
   "execution_count": 27,
   "metadata": {},
   "outputs": [
    {
     "data": {
      "text/plain": [
       "<matplotlib.axes._subplots.AxesSubplot at 0x166af742ca0>"
      ]
     },
     "execution_count": 27,
     "metadata": {},
     "output_type": "execute_result"
    },
    {
     "data": {
      "image/png": "[encoded data removed]",
      "text/plain": [
       "<Figure size 432x288 with 1 Axes>"
      ]
     },
     "metadata": {
      "needs_background": "light"
     },
     "output_type": "display_data"
    }
   ],
   "source": [
    "data['Month of Joining'].plot.box()"
   ]
  },
  {
   "cell_type": "code",
   "execution_count": 28,
   "metadata": {},
   "outputs": [
    {
     "data": {
      "text/plain": [
       "(1000, 37)"
      ]
     },
     "execution_count": 28,
     "metadata": {},
     "output_type": "execute_result"
    }
   ],
   "source": [
    "data.shape"
   ]
  },
  {
   "cell_type": "code",
   "execution_count": 31,
   "metadata": {},
   "outputs": [
    {
     "data": {
      "text/plain": [
       "<matplotlib.axes._subplots.AxesSubplot at 0x166b15fed00>"
      ]
     },
     "execution_count": 31,
     "metadata": {},
     "output_type": "execute_result"
    },
    {
     "data": {
      "image/png": "[encoded data removed]",
      "text/plain": [
       "<Figure size 432x288 with 1 Axes>"
      ]
     },
     "metadata": {
      "needs_background": "light"
     },
     "output_type": "display_data"
    }
   ],
   "source": [
    "sns.distplot(data['Zip'])"
   ]
  },
  {
   "cell_type": "code",
   "execution_count": 32,
   "metadata": {},
   "outputs": [],
   "source": [
    "import sklearn\n",
    "from sklearn.preprocessing import LabelEncoder,OneHotEncoder\n",
    "import pandas as pd"
   ]
  },
  {
   "cell_type": "code",
   "execution_count": 33,
   "metadata": {},
   "outputs": [
    {
     "data": {
      "text/html": [
       "<div>\n",
       "<style scoped>\n",
       "    .dataframe tbody tr th:only-of-type {\n",
       "        vertical-align: middle;\n",
       "    }\n",
       "\n",
       "    .dataframe tbody tr th {\n",
       "        vertical-align: top;\n",
       "    }\n",
       "\n",
       "    .dataframe thead th {\n",
       "        text-align: right;\n",
       "    }\n",
       "</style>\n",
       "<table border=\"1\" class=\"dataframe\">\n",
       "  <thead>\n",
       "    <tr style=\"text-align: right;\">\n",
       "      <th></th>\n",
       "      <th>Emp ID</th>\n",
       "      <th>Name Prefix</th>\n",
       "      <th>First Name</th>\n",
       "      <th>Middle Initial</th>\n",
       "      <th>Last Name</th>\n",
       "      <th>Gender</th>\n",
       "      <th>E Mail</th>\n",
       "      <th>Father's Name</th>\n",
       "      <th>Mother's Name</th>\n",
       "      <th>Mother's Maiden Name</th>\n",
       "      <th>...</th>\n",
       "      <th>SSN</th>\n",
       "      <th>Phone No.</th>\n",
       "      <th>Place Name</th>\n",
       "      <th>County</th>\n",
       "      <th>City</th>\n",
       "      <th>State</th>\n",
       "      <th>Zip</th>\n",
       "      <th>Region</th>\n",
       "      <th>User Name</th>\n",
       "      <th>Password</th>\n",
       "    </tr>\n",
       "  </thead>\n",
       "  <tbody>\n",
       "    <tr>\n",
       "      <th>0</th>\n",
       "      <td>850297</td>\n",
       "      <td>Ms.</td>\n",
       "      <td>Shawna</td>\n",
       "      <td>W</td>\n",
       "      <td>Buck</td>\n",
       "      <td>F</td>\n",
       "      <td>shawna.buck@gmail.com</td>\n",
       "      <td>Rosario Buck</td>\n",
       "      <td>Keisha Buck</td>\n",
       "      <td>Hendricks</td>\n",
       "      <td>...</td>\n",
       "      <td>222-11-7603</td>\n",
       "      <td>702-771-7149</td>\n",
       "      <td>Las Vegas</td>\n",
       "      <td>Clark</td>\n",
       "      <td>Las Vegas</td>\n",
       "      <td>NV</td>\n",
       "      <td>89128</td>\n",
       "      <td>West</td>\n",
       "      <td>swbuck</td>\n",
       "      <td>ja8?k3BTF^]o@&lt;&amp;</td>\n",
       "    </tr>\n",
       "    <tr>\n",
       "      <th>1</th>\n",
       "      <td>304721</td>\n",
       "      <td>Mr.</td>\n",
       "      <td>Nathaniel</td>\n",
       "      <td>Z</td>\n",
       "      <td>Burke</td>\n",
       "      <td>M</td>\n",
       "      <td>nathaniel.burke@walmart.com</td>\n",
       "      <td>Derrick Burke</td>\n",
       "      <td>Phoebe Burke</td>\n",
       "      <td>Pugh</td>\n",
       "      <td>...</td>\n",
       "      <td>550-99-9897</td>\n",
       "      <td>231-765-6923</td>\n",
       "      <td>Irons</td>\n",
       "      <td>Lake</td>\n",
       "      <td>Irons</td>\n",
       "      <td>MI</td>\n",
       "      <td>49644</td>\n",
       "      <td>Midwest</td>\n",
       "      <td>nzburke</td>\n",
       "      <td>tPA@4Wh9Ja$+Ln</td>\n",
       "    </tr>\n",
       "    <tr>\n",
       "      <th>2</th>\n",
       "      <td>412317</td>\n",
       "      <td>Drs.</td>\n",
       "      <td>Elisabeth</td>\n",
       "      <td>W</td>\n",
       "      <td>Foster</td>\n",
       "      <td>F</td>\n",
       "      <td>elisabeth.foster@gmail.com</td>\n",
       "      <td>Irwin Foster</td>\n",
       "      <td>Janie Foster</td>\n",
       "      <td>Delaney</td>\n",
       "      <td>...</td>\n",
       "      <td>215-91-0004</td>\n",
       "      <td>270-749-4774</td>\n",
       "      <td>Lexington</td>\n",
       "      <td>Fayette</td>\n",
       "      <td>Lexington</td>\n",
       "      <td>KY</td>\n",
       "      <td>40501</td>\n",
       "      <td>South</td>\n",
       "      <td>ewfoster</td>\n",
       "      <td>5D.B4IGNkWJfG&lt;~</td>\n",
       "    </tr>\n",
       "    <tr>\n",
       "      <th>3</th>\n",
       "      <td>621375</td>\n",
       "      <td>Mrs.</td>\n",
       "      <td>Briana</td>\n",
       "      <td>C</td>\n",
       "      <td>Lancaster</td>\n",
       "      <td>F</td>\n",
       "      <td>briana.lancaster@yahoo.com</td>\n",
       "      <td>Jeffrey Lancaster</td>\n",
       "      <td>Shelby Lancaster</td>\n",
       "      <td>Weiss</td>\n",
       "      <td>...</td>\n",
       "      <td>534-71-1053</td>\n",
       "      <td>219-623-8216</td>\n",
       "      <td>Munster</td>\n",
       "      <td>Lake</td>\n",
       "      <td>Munster</td>\n",
       "      <td>IN</td>\n",
       "      <td>46321</td>\n",
       "      <td>Midwest</td>\n",
       "      <td>bclancaster</td>\n",
       "      <td>I%?JDM;pW</td>\n",
       "    </tr>\n",
       "    <tr>\n",
       "      <th>4</th>\n",
       "      <td>787549</td>\n",
       "      <td>Hon.</td>\n",
       "      <td>Estella</td>\n",
       "      <td>L</td>\n",
       "      <td>Potter</td>\n",
       "      <td>F</td>\n",
       "      <td>estella.potter@gmail.com</td>\n",
       "      <td>Booker Potter</td>\n",
       "      <td>Katelyn Potter</td>\n",
       "      <td>Pate</td>\n",
       "      <td>...</td>\n",
       "      <td>644-29-6396</td>\n",
       "      <td>907-677-8486</td>\n",
       "      <td>Fairbanks</td>\n",
       "      <td>Fairbanks North Star</td>\n",
       "      <td>Fairbanks</td>\n",
       "      <td>AK</td>\n",
       "      <td>99709</td>\n",
       "      <td>West</td>\n",
       "      <td>elpotter</td>\n",
       "      <td>j4jkEXfC&amp;Rh</td>\n",
       "    </tr>\n",
       "    <tr>\n",
       "      <th>...</th>\n",
       "      <td>...</td>\n",
       "      <td>...</td>\n",
       "      <td>...</td>\n",
       "      <td>...</td>\n",
       "      <td>...</td>\n",
       "      <td>...</td>\n",
       "      <td>...</td>\n",
       "      <td>...</td>\n",
       "      <td>...</td>\n",
       "      <td>...</td>\n",
       "      <td>...</td>\n",
       "      <td>...</td>\n",
       "      <td>...</td>\n",
       "      <td>...</td>\n",
       "      <td>...</td>\n",
       "      <td>...</td>\n",
       "      <td>...</td>\n",
       "      <td>...</td>\n",
       "      <td>...</td>\n",
       "      <td>...</td>\n",
       "      <td>...</td>\n",
       "    </tr>\n",
       "    <tr>\n",
       "      <th>995</th>\n",
       "      <td>568435</td>\n",
       "      <td>Ms.</td>\n",
       "      <td>Bonnie</td>\n",
       "      <td>K</td>\n",
       "      <td>Baker</td>\n",
       "      <td>F</td>\n",
       "      <td>bonnie.baker@bp.com</td>\n",
       "      <td>Edwardo Baker</td>\n",
       "      <td>Pauline Baker</td>\n",
       "      <td>Robinson</td>\n",
       "      <td>...</td>\n",
       "      <td>064-02-6162</td>\n",
       "      <td>262-696-9171</td>\n",
       "      <td>Mukwonago</td>\n",
       "      <td>Waukesha</td>\n",
       "      <td>Mukwonago</td>\n",
       "      <td>WI</td>\n",
       "      <td>53149</td>\n",
       "      <td>Midwest</td>\n",
       "      <td>bkbaker</td>\n",
       "      <td>a?Co:/r;nu_wTQ</td>\n",
       "    </tr>\n",
       "    <tr>\n",
       "      <th>996</th>\n",
       "      <td>597409</td>\n",
       "      <td>Mr.</td>\n",
       "      <td>Luke</td>\n",
       "      <td>S</td>\n",
       "      <td>Turner</td>\n",
       "      <td>M</td>\n",
       "      <td>luke.turner@charter.net</td>\n",
       "      <td>Javier Turner</td>\n",
       "      <td>Nicole Turner</td>\n",
       "      <td>Sykes</td>\n",
       "      <td>...</td>\n",
       "      <td>056-02-8240</td>\n",
       "      <td>231-629-0498</td>\n",
       "      <td>Freeport</td>\n",
       "      <td>Barry</td>\n",
       "      <td>Freeport</td>\n",
       "      <td>MI</td>\n",
       "      <td>49325</td>\n",
       "      <td>Midwest</td>\n",
       "      <td>lsturner</td>\n",
       "      <td>7n5@64VC7|</td>\n",
       "    </tr>\n",
       "    <tr>\n",
       "      <th>997</th>\n",
       "      <td>359608</td>\n",
       "      <td>Hon.</td>\n",
       "      <td>Eva</td>\n",
       "      <td>S</td>\n",
       "      <td>Holman</td>\n",
       "      <td>F</td>\n",
       "      <td>eva.holman@hotmail.com</td>\n",
       "      <td>Coy Holman</td>\n",
       "      <td>Haley Holman</td>\n",
       "      <td>Boyle</td>\n",
       "      <td>...</td>\n",
       "      <td>343-11-1935</td>\n",
       "      <td>209-912-6705</td>\n",
       "      <td>Turlock</td>\n",
       "      <td>Stanislaus</td>\n",
       "      <td>Turlock</td>\n",
       "      <td>CA</td>\n",
       "      <td>95381</td>\n",
       "      <td>West</td>\n",
       "      <td>esholman</td>\n",
       "      <td>DG&lt;&lt;&lt;e}*WgD&lt;U</td>\n",
       "    </tr>\n",
       "    <tr>\n",
       "      <th>998</th>\n",
       "      <td>803426</td>\n",
       "      <td>Mrs.</td>\n",
       "      <td>Maritza</td>\n",
       "      <td>H</td>\n",
       "      <td>Christian</td>\n",
       "      <td>F</td>\n",
       "      <td>maritza.christian@microsoft.com</td>\n",
       "      <td>Dion Christian</td>\n",
       "      <td>Stephanie Christian</td>\n",
       "      <td>Mooney</td>\n",
       "      <td>...</td>\n",
       "      <td>336-11-5030</td>\n",
       "      <td>203-224-9056</td>\n",
       "      <td>Stamford</td>\n",
       "      <td>Fairfield</td>\n",
       "      <td>Stamford</td>\n",
       "      <td>CT</td>\n",
       "      <td>6910</td>\n",
       "      <td>Northeast</td>\n",
       "      <td>mhchristian</td>\n",
       "      <td>Krs@#TnM</td>\n",
       "    </tr>\n",
       "    <tr>\n",
       "      <th>999</th>\n",
       "      <td>669618</td>\n",
       "      <td>Drs.</td>\n",
       "      <td>Phyllis</td>\n",
       "      <td>H</td>\n",
       "      <td>Dudley</td>\n",
       "      <td>F</td>\n",
       "      <td>phyllis.dudley@yahoo.co.in</td>\n",
       "      <td>Jarrod Dudley</td>\n",
       "      <td>Latisha Dudley</td>\n",
       "      <td>Wilcox</td>\n",
       "      <td>...</td>\n",
       "      <td>101-02-6501</td>\n",
       "      <td>405-970-2341</td>\n",
       "      <td>Meno</td>\n",
       "      <td>Major</td>\n",
       "      <td>Meno</td>\n",
       "      <td>OK</td>\n",
       "      <td>73760</td>\n",
       "      <td>South</td>\n",
       "      <td>phdudley</td>\n",
       "      <td>h6wt@400%&amp;Uu</td>\n",
       "    </tr>\n",
       "  </tbody>\n",
       "</table>\n",
       "<p>1000 rows × 37 columns</p>\n",
       "</div>"
      ],
      "text/plain": [
       "     Emp ID Name Prefix First Name Middle Initial  Last Name Gender  \\\n",
       "0    850297         Ms.     Shawna              W       Buck      F   \n",
       "1    304721         Mr.  Nathaniel              Z      Burke      M   \n",
       "2    412317        Drs.  Elisabeth              W     Foster      F   \n",
       "3    621375        Mrs.     Briana              C  Lancaster      F   \n",
       "4    787549        Hon.    Estella              L     Potter      F   \n",
       "..      ...         ...        ...            ...        ...    ...   \n",
       "995  568435         Ms.     Bonnie              K      Baker      F   \n",
       "996  597409         Mr.       Luke              S     Turner      M   \n",
       "997  359608        Hon.        Eva              S     Holman      F   \n",
       "998  803426        Mrs.    Maritza              H  Christian      F   \n",
       "999  669618        Drs.    Phyllis              H     Dudley      F   \n",
       "\n",
       "                              E Mail      Father's Name        Mother's Name  \\\n",
       "0              shawna.buck@gmail.com       Rosario Buck          Keisha Buck   \n",
       "1        nathaniel.burke@walmart.com      Derrick Burke         Phoebe Burke   \n",
       "2         elisabeth.foster@gmail.com       Irwin Foster         Janie Foster   \n",
       "3         briana.lancaster@yahoo.com  Jeffrey Lancaster     Shelby Lancaster   \n",
       "4           estella.potter@gmail.com      Booker Potter       Katelyn Potter   \n",
       "..                               ...                ...                  ...   \n",
       "995              bonnie.baker@bp.com      Edwardo Baker        Pauline Baker   \n",
       "996          luke.turner@charter.net      Javier Turner        Nicole Turner   \n",
       "997           eva.holman@hotmail.com         Coy Holman         Haley Holman   \n",
       "998  maritza.christian@microsoft.com     Dion Christian  Stephanie Christian   \n",
       "999       phyllis.dudley@yahoo.co.in      Jarrod Dudley       Latisha Dudley   \n",
       "\n",
       "    Mother's Maiden Name  ...          SSN    Phone No.   Place Name  \\\n",
       "0              Hendricks  ...  222-11-7603  702-771-7149   Las Vegas   \n",
       "1                   Pugh  ...  550-99-9897  231-765-6923       Irons   \n",
       "2                Delaney  ...  215-91-0004  270-749-4774   Lexington   \n",
       "3                  Weiss  ...  534-71-1053  219-623-8216     Munster   \n",
       "4                   Pate  ...  644-29-6396  907-677-8486   Fairbanks   \n",
       "..                   ...  ...          ...           ...         ...   \n",
       "995             Robinson  ...  064-02-6162  262-696-9171   Mukwonago   \n",
       "996                Sykes  ...  056-02-8240  231-629-0498    Freeport   \n",
       "997                Boyle  ...  343-11-1935  209-912-6705     Turlock   \n",
       "998               Mooney  ...  336-11-5030  203-224-9056    Stamford   \n",
       "999               Wilcox  ...  101-02-6501  405-970-2341        Meno   \n",
       "\n",
       "                   County       City State    Zip     Region    User Name  \\\n",
       "0                   Clark  Las Vegas    NV  89128       West       swbuck   \n",
       "1                    Lake      Irons    MI  49644    Midwest      nzburke   \n",
       "2                 Fayette  Lexington    KY  40501      South     ewfoster   \n",
       "3                    Lake    Munster    IN  46321    Midwest  bclancaster   \n",
       "4    Fairbanks North Star  Fairbanks    AK  99709       West     elpotter   \n",
       "..                    ...        ...   ...    ...        ...          ...   \n",
       "995              Waukesha  Mukwonago    WI  53149    Midwest      bkbaker   \n",
       "996                 Barry   Freeport    MI  49325    Midwest     lsturner   \n",
       "997            Stanislaus    Turlock    CA  95381       West     esholman   \n",
       "998             Fairfield   Stamford    CT   6910  Northeast  mhchristian   \n",
       "999                 Major       Meno    OK  73760      South     phdudley   \n",
       "\n",
       "            Password  \n",
       "0    ja8?k3BTF^]o@<&  \n",
       "1     tPA@4Wh9Ja$+Ln  \n",
       "2    5D.B4IGNkWJfG<~  \n",
       "3          I%?JDM;pW  \n",
       "4        j4jkEXfC&Rh  \n",
       "..               ...  \n",
       "995   a?Co:/r;nu_wTQ  \n",
       "996       7n5@64VC7|  \n",
       "997    DG<<<e}*WgD<U  \n",
       "998         Krs@#TnM  \n",
       "999     h6wt@400%&Uu  \n",
       "\n",
       "[1000 rows x 37 columns]"
      ]
     },
     "execution_count": 33,
     "metadata": {},
     "output_type": "execute_result"
    }
   ],
   "source": [
    "from sklearn.impute import SimpleImputer\n",
    "imp=SimpleImputer(strategy=\"most_frequent\")\n",
    "data['Emp ID']=imp.fit_transform(data['Emp ID'].values.reshape(-1,1))\n",
    "data"
   ]
  },
  {
   "cell_type": "code",
   "execution_count": 34,
   "metadata": {},
   "outputs": [],
   "source": [
    "\n",
    "le=LabelEncoder()\n",
    "\n",
    "\n",
    "list1=['Name Prefix','First Name','Middle Initial','Last Name','Gender','E Mail',\"Father's Name\",\n",
    "       \"Mother's Name\",\"Mother's Maiden Name\",'Place Name','County','City','State','Region','User Name','Password',\n",
    "      'Date of Birth','Time of Birth',\"Age in Yrs.\",\"Weight in Kgs.\",'Date of Joining','Quarter of Joining',\n",
    "       'Half of Joining',\n",
    "       'Year of Joining','Month of Joining','Month Name of Joining','Short Month','Day of Joining',\n",
    "       'DOW of Joining','Short DOW','Age in Company (Years)','Salary','Last % Hike','SSN']\n",
    "for val in list1:\n",
    "    data[val]=le.fit_transform(data[val].astype(str))"
   ]
  },
  {
   "cell_type": "code",
   "execution_count": 35,
   "metadata": {},
   "outputs": [
    {
     "data": {
      "text/html": [
       "<div>\n",
       "<style scoped>\n",
       "    .dataframe tbody tr th:only-of-type {\n",
       "        vertical-align: middle;\n",
       "    }\n",
       "\n",
       "    .dataframe tbody tr th {\n",
       "        vertical-align: top;\n",
       "    }\n",
       "\n",
       "    .dataframe thead th {\n",
       "        text-align: right;\n",
       "    }\n",
       "</style>\n",
       "<table border=\"1\" class=\"dataframe\">\n",
       "  <thead>\n",
       "    <tr style=\"text-align: right;\">\n",
       "      <th></th>\n",
       "      <th>Emp ID</th>\n",
       "      <th>Name Prefix</th>\n",
       "      <th>First Name</th>\n",
       "      <th>Middle Initial</th>\n",
       "      <th>Last Name</th>\n",
       "      <th>Gender</th>\n",
       "      <th>E Mail</th>\n",
       "      <th>Father's Name</th>\n",
       "      <th>Mother's Name</th>\n",
       "      <th>Mother's Maiden Name</th>\n",
       "      <th>...</th>\n",
       "      <th>SSN</th>\n",
       "      <th>Phone No.</th>\n",
       "      <th>Place Name</th>\n",
       "      <th>County</th>\n",
       "      <th>City</th>\n",
       "      <th>State</th>\n",
       "      <th>Zip</th>\n",
       "      <th>Region</th>\n",
       "      <th>User Name</th>\n",
       "      <th>Password</th>\n",
       "    </tr>\n",
       "  </thead>\n",
       "  <tbody>\n",
       "    <tr>\n",
       "      <th>0</th>\n",
       "      <td>850297</td>\n",
       "      <td>5</td>\n",
       "      <td>695</td>\n",
       "      <td>22</td>\n",
       "      <td>72</td>\n",
       "      <td>0</td>\n",
       "      <td>879</td>\n",
       "      <td>810</td>\n",
       "      <td>510</td>\n",
       "      <td>262</td>\n",
       "      <td>...</td>\n",
       "      <td>301</td>\n",
       "      <td>702-771-7149</td>\n",
       "      <td>410</td>\n",
       "      <td>106</td>\n",
       "      <td>410</td>\n",
       "      <td>32</td>\n",
       "      <td>89128</td>\n",
       "      <td>3</td>\n",
       "      <td>905</td>\n",
       "      <td>730</td>\n",
       "    </tr>\n",
       "    <tr>\n",
       "      <th>1</th>\n",
       "      <td>304721</td>\n",
       "      <td>3</td>\n",
       "      <td>575</td>\n",
       "      <td>25</td>\n",
       "      <td>75</td>\n",
       "      <td>1</td>\n",
       "      <td>730</td>\n",
       "      <td>249</td>\n",
       "      <td>786</td>\n",
       "      <td>476</td>\n",
       "      <td>...</td>\n",
       "      <td>734</td>\n",
       "      <td>231-765-6923</td>\n",
       "      <td>362</td>\n",
       "      <td>276</td>\n",
       "      <td>362</td>\n",
       "      <td>21</td>\n",
       "      <td>49644</td>\n",
       "      <td>0</td>\n",
       "      <td>752</td>\n",
       "      <td>895</td>\n",
       "    </tr>\n",
       "    <tr>\n",
       "      <th>2</th>\n",
       "      <td>412317</td>\n",
       "      <td>1</td>\n",
       "      <td>233</td>\n",
       "      <td>22</td>\n",
       "      <td>191</td>\n",
       "      <td>0</td>\n",
       "      <td>300</td>\n",
       "      <td>450</td>\n",
       "      <td>419</td>\n",
       "      <td>153</td>\n",
       "      <td>...</td>\n",
       "      <td>289</td>\n",
       "      <td>270-749-4774</td>\n",
       "      <td>423</td>\n",
       "      <td>184</td>\n",
       "      <td>423</td>\n",
       "      <td>16</td>\n",
       "      <td>40501</td>\n",
       "      <td>2</td>\n",
       "      <td>331</td>\n",
       "      <td>78</td>\n",
       "    </tr>\n",
       "    <tr>\n",
       "      <th>3</th>\n",
       "      <td>621375</td>\n",
       "      <td>4</td>\n",
       "      <td>96</td>\n",
       "      <td>2</td>\n",
       "      <td>326</td>\n",
       "      <td>0</td>\n",
       "      <td>118</td>\n",
       "      <td>497</td>\n",
       "      <td>882</td>\n",
       "      <td>608</td>\n",
       "      <td>...</td>\n",
       "      <td>714</td>\n",
       "      <td>219-623-8216</td>\n",
       "      <td>521</td>\n",
       "      <td>276</td>\n",
       "      <td>521</td>\n",
       "      <td>14</td>\n",
       "      <td>46321</td>\n",
       "      <td>0</td>\n",
       "      <td>67</td>\n",
       "      <td>280</td>\n",
       "    </tr>\n",
       "    <tr>\n",
       "      <th>4</th>\n",
       "      <td>787549</td>\n",
       "      <td>2</td>\n",
       "      <td>261</td>\n",
       "      <td>11</td>\n",
       "      <td>471</td>\n",
       "      <td>0</td>\n",
       "      <td>335</td>\n",
       "      <td>95</td>\n",
       "      <td>495</td>\n",
       "      <td>450</td>\n",
       "      <td>...</td>\n",
       "      <td>845</td>\n",
       "      <td>907-677-8486</td>\n",
       "      <td>236</td>\n",
       "      <td>177</td>\n",
       "      <td>236</td>\n",
       "      <td>0</td>\n",
       "      <td>99709</td>\n",
       "      <td>3</td>\n",
       "      <td>313</td>\n",
       "      <td>713</td>\n",
       "    </tr>\n",
       "    <tr>\n",
       "      <th>...</th>\n",
       "      <td>...</td>\n",
       "      <td>...</td>\n",
       "      <td>...</td>\n",
       "      <td>...</td>\n",
       "      <td>...</td>\n",
       "      <td>...</td>\n",
       "      <td>...</td>\n",
       "      <td>...</td>\n",
       "      <td>...</td>\n",
       "      <td>...</td>\n",
       "      <td>...</td>\n",
       "      <td>...</td>\n",
       "      <td>...</td>\n",
       "      <td>...</td>\n",
       "      <td>...</td>\n",
       "      <td>...</td>\n",
       "      <td>...</td>\n",
       "      <td>...</td>\n",
       "      <td>...</td>\n",
       "      <td>...</td>\n",
       "      <td>...</td>\n",
       "    </tr>\n",
       "    <tr>\n",
       "      <th>995</th>\n",
       "      <td>568435</td>\n",
       "      <td>5</td>\n",
       "      <td>88</td>\n",
       "      <td>10</td>\n",
       "      <td>20</td>\n",
       "      <td>0</td>\n",
       "      <td>107</td>\n",
       "      <td>296</td>\n",
       "      <td>774</td>\n",
       "      <td>498</td>\n",
       "      <td>...</td>\n",
       "      <td>75</td>\n",
       "      <td>262-696-9171</td>\n",
       "      <td>520</td>\n",
       "      <td>557</td>\n",
       "      <td>520</td>\n",
       "      <td>47</td>\n",
       "      <td>53149</td>\n",
       "      <td>0</td>\n",
       "      <td>86</td>\n",
       "      <td>579</td>\n",
       "    </tr>\n",
       "    <tr>\n",
       "      <th>996</th>\n",
       "      <td>597409</td>\n",
       "      <td>3</td>\n",
       "      <td>486</td>\n",
       "      <td>18</td>\n",
       "      <td>582</td>\n",
       "      <td>1</td>\n",
       "      <td>620</td>\n",
       "      <td>487</td>\n",
       "      <td>753</td>\n",
       "      <td>572</td>\n",
       "      <td>...</td>\n",
       "      <td>64</td>\n",
       "      <td>231-629-0498</td>\n",
       "      <td>267</td>\n",
       "      <td>30</td>\n",
       "      <td>267</td>\n",
       "      <td>21</td>\n",
       "      <td>49325</td>\n",
       "      <td>0</td>\n",
       "      <td>612</td>\n",
       "      <td>124</td>\n",
       "    </tr>\n",
       "    <tr>\n",
       "      <th>997</th>\n",
       "      <td>359608</td>\n",
       "      <td>2</td>\n",
       "      <td>264</td>\n",
       "      <td>18</td>\n",
       "      <td>279</td>\n",
       "      <td>0</td>\n",
       "      <td>339</td>\n",
       "      <td>206</td>\n",
       "      <td>370</td>\n",
       "      <td>59</td>\n",
       "      <td>...</td>\n",
       "      <td>448</td>\n",
       "      <td>209-912-6705</td>\n",
       "      <td>807</td>\n",
       "      <td>505</td>\n",
       "      <td>807</td>\n",
       "      <td>4</td>\n",
       "      <td>95381</td>\n",
       "      <td>3</td>\n",
       "      <td>325</td>\n",
       "      <td>202</td>\n",
       "    </tr>\n",
       "    <tr>\n",
       "      <th>998</th>\n",
       "      <td>803426</td>\n",
       "      <td>4</td>\n",
       "      <td>516</td>\n",
       "      <td>7</td>\n",
       "      <td>109</td>\n",
       "      <td>0</td>\n",
       "      <td>659</td>\n",
       "      <td>259</td>\n",
       "      <td>910</td>\n",
       "      <td>408</td>\n",
       "      <td>...</td>\n",
       "      <td>442</td>\n",
       "      <td>203-224-9056</td>\n",
       "      <td>756</td>\n",
       "      <td>179</td>\n",
       "      <td>756</td>\n",
       "      <td>6</td>\n",
       "      <td>6910</td>\n",
       "      <td>1</td>\n",
       "      <td>653</td>\n",
       "      <td>320</td>\n",
       "    </tr>\n",
       "    <tr>\n",
       "      <th>999</th>\n",
       "      <td>669618</td>\n",
       "      <td>1</td>\n",
       "      <td>617</td>\n",
       "      <td>7</td>\n",
       "      <td>156</td>\n",
       "      <td>0</td>\n",
       "      <td>783</td>\n",
       "      <td>479</td>\n",
       "      <td>539</td>\n",
       "      <td>618</td>\n",
       "      <td>...</td>\n",
       "      <td>137</td>\n",
       "      <td>405-970-2341</td>\n",
       "      <td>481</td>\n",
       "      <td>311</td>\n",
       "      <td>481</td>\n",
       "      <td>35</td>\n",
       "      <td>73760</td>\n",
       "      <td>2</td>\n",
       "      <td>772</td>\n",
       "      <td>690</td>\n",
       "    </tr>\n",
       "  </tbody>\n",
       "</table>\n",
       "<p>1000 rows × 37 columns</p>\n",
       "</div>"
      ],
      "text/plain": [
       "     Emp ID  Name Prefix  First Name  Middle Initial  Last Name  Gender  \\\n",
       "0    850297            5         695              22         72       0   \n",
       "1    304721            3         575              25         75       1   \n",
       "2    412317            1         233              22        191       0   \n",
       "3    621375            4          96               2        326       0   \n",
       "4    787549            2         261              11        471       0   \n",
       "..      ...          ...         ...             ...        ...     ...   \n",
       "995  568435            5          88              10         20       0   \n",
       "996  597409            3         486              18        582       1   \n",
       "997  359608            2         264              18        279       0   \n",
       "998  803426            4         516               7        109       0   \n",
       "999  669618            1         617               7        156       0   \n",
       "\n",
       "     E Mail  Father's Name  Mother's Name  Mother's Maiden Name  ...  SSN  \\\n",
       "0       879            810            510                   262  ...  301   \n",
       "1       730            249            786                   476  ...  734   \n",
       "2       300            450            419                   153  ...  289   \n",
       "3       118            497            882                   608  ...  714   \n",
       "4       335             95            495                   450  ...  845   \n",
       "..      ...            ...            ...                   ...  ...  ...   \n",
       "995     107            296            774                   498  ...   75   \n",
       "996     620            487            753                   572  ...   64   \n",
       "997     339            206            370                    59  ...  448   \n",
       "998     659            259            910                   408  ...  442   \n",
       "999     783            479            539                   618  ...  137   \n",
       "\n",
       "       Phone No.   Place Name  County  City  State    Zip  Region  User Name  \\\n",
       "0    702-771-7149         410     106   410     32  89128       3        905   \n",
       "1    231-765-6923         362     276   362     21  49644       0        752   \n",
       "2    270-749-4774         423     184   423     16  40501       2        331   \n",
       "3    219-623-8216         521     276   521     14  46321       0         67   \n",
       "4    907-677-8486         236     177   236      0  99709       3        313   \n",
       "..            ...         ...     ...   ...    ...    ...     ...        ...   \n",
       "995  262-696-9171         520     557   520     47  53149       0         86   \n",
       "996  231-629-0498         267      30   267     21  49325       0        612   \n",
       "997  209-912-6705         807     505   807      4  95381       3        325   \n",
       "998  203-224-9056         756     179   756      6   6910       1        653   \n",
       "999  405-970-2341         481     311   481     35  73760       2        772   \n",
       "\n",
       "     Password  \n",
       "0         730  \n",
       "1         895  \n",
       "2          78  \n",
       "3         280  \n",
       "4         713  \n",
       "..        ...  \n",
       "995       579  \n",
       "996       124  \n",
       "997       202  \n",
       "998       320  \n",
       "999       690  \n",
       "\n",
       "[1000 rows x 37 columns]"
      ]
     },
     "execution_count": 35,
     "metadata": {},
     "output_type": "execute_result"
    }
   ],
   "source": [
    "data"
   ]
  },
  {
   "cell_type": "code",
   "execution_count": 41,
   "metadata": {},
   "outputs": [
    {
     "data": {
      "text/plain": [
       "Index(['Emp ID', 'Name Prefix', 'First Name', 'Middle Initial', 'Last Name',\n",
       "       'Gender', 'E Mail', 'Father's Name', 'Mother's Name',\n",
       "       'Mother's Maiden Name', 'Date of Birth', 'Time of Birth', 'Age in Yrs.',\n",
       "       'Weight in Kgs.', 'Date of Joining', 'Quarter of Joining',\n",
       "       'Half of Joining', 'Year of Joining', 'Month of Joining',\n",
       "       'Month Name of Joining', 'Short Month', 'Day of Joining',\n",
       "       'DOW of Joining', 'Short DOW', 'Age in Company (Years)', 'Salary',\n",
       "       'Last % Hike', 'SSN', 'Phone No. ', 'Place Name', 'County', 'City',\n",
       "       'State', 'Zip', 'Region', 'User Name', 'Password'],\n",
       "      dtype='object')"
      ]
     },
     "execution_count": 41,
     "metadata": {},
     "output_type": "execute_result"
    }
   ],
   "source": [
    "data.columns"
   ]
  },
  {
   "cell_type": "code",
   "execution_count": 42,
   "metadata": {},
   "outputs": [],
   "source": [
    "data=data.drop([\"Phone No. \"],axis=1)"
   ]
  },
  {
   "cell_type": "code",
   "execution_count": 43,
   "metadata": {},
   "outputs": [
    {
     "data": {
      "text/plain": [
       "array([[8.50297000e+05, 5.00000000e+00, 6.95000000e+02, ...,\n",
       "        3.00000000e+00, 9.05000000e+02, 7.30000000e+02],\n",
       "       [3.04721000e+05, 3.00000000e+00, 5.75000000e+02, ...,\n",
       "        1.97202797e+00, 7.52000000e+02, 8.95000000e+02],\n",
       "       [4.12317000e+05, 1.00000000e+00, 2.33000000e+02, ...,\n",
       "        2.00000000e+00, 3.31000000e+02, 7.80000000e+01],\n",
       "       ...,\n",
       "       [3.59608000e+05, 2.00000000e+00, 2.64000000e+02, ...,\n",
       "        3.00000000e+00, 3.25000000e+02, 2.02000000e+02],\n",
       "       [8.03426000e+05, 4.00000000e+00, 5.16000000e+02, ...,\n",
       "        1.00000000e+00, 6.53000000e+02, 3.20000000e+02],\n",
       "       [6.69618000e+05, 1.00000000e+00, 6.17000000e+02, ...,\n",
       "        2.00000000e+00, 7.72000000e+02, 6.90000000e+02]])"
      ]
     },
     "execution_count": 43,
     "metadata": {},
     "output_type": "execute_result"
    }
   ],
   "source": [
    "from sklearn.impute import SimpleImputer\n",
    "imp=SimpleImputer(missing_values=0,strategy='mean')\n",
    "imp=imp.fit(data)\n",
    "dst=imp.transform(data.values)\n",
    "\n",
    "dst"
   ]
  },
  {
   "cell_type": "code",
   "execution_count": 44,
   "metadata": {},
   "outputs": [
    {
     "data": {
      "text/plain": [
       "array([695, 575, 233,  96, 261, 437, 537, 691, 353, 495,  77, 634,  39,\n",
       "       526,  72, 148, 750, 747, 787, 109,  13, 520,  45, 731, 386, 418,\n",
       "       197,   8,  60, 364, 684, 336, 503,  65, 505, 673,  81, 507, 619,\n",
       "       491, 740, 674, 658, 113, 745, 451, 144, 401, 458, 641, 468, 412,\n",
       "       525, 296, 545, 111,  82, 231,  16, 252, 284, 730, 136, 296, 202,\n",
       "       156, 610, 769, 166, 161,  93, 547, 258, 609, 279, 517, 767, 214,\n",
       "       552,   2,  65, 576, 582, 384,  92, 110,  43, 584, 629, 362, 730,\n",
       "       209, 591, 170, 578, 500, 204, 479, 356, 157, 210, 720, 365, 241,\n",
       "       709, 662, 305, 394,   9, 570, 759,  90, 244, 790, 731,  48, 118,\n",
       "       138, 645,  95, 581, 230, 150, 667, 678,  17,  94, 204, 399, 519,\n",
       "       167, 455, 733,  19, 508, 781, 208, 431, 290, 522, 334, 639, 699,\n",
       "       381, 220,  72, 789, 649, 115, 703, 440, 257, 108, 245, 683, 657,\n",
       "       749, 370, 337, 347, 131, 402,  40, 602, 311,   7, 346, 620, 185,\n",
       "       416, 327, 354,  97, 678, 734, 174, 262, 447, 760, 351, 345,  99,\n",
       "       289,  50, 487, 372, 563,  32,  52,  29, 676, 425, 720, 306, 182,\n",
       "       393, 211,  83,  89, 650, 428, 446, 376, 447, 355, 488, 213, 559,\n",
       "       201, 130, 482, 481,  11, 350, 413, 190, 411, 218, 732, 137, 460,\n",
       "       139, 553, 546, 349, 706,  79, 191, 172,  34, 692, 660, 420, 205,\n",
       "       246, 438, 363, 213, 280, 614,  21, 374, 716, 597, 476, 188, 431,\n",
       "       709, 282, 612,   5, 663, 159, 710, 562, 630, 689,   2, 446, 277,\n",
       "       684, 714, 167, 529, 221,  86, 345,  14, 564, 558, 203, 727, 268,\n",
       "       427, 582, 655,  98, 195, 473, 646, 480, 731, 693, 183, 533,   4,\n",
       "       308, 601, 648, 238, 196, 528, 654, 309, 536, 543, 103, 434, 377,\n",
       "       440, 773, 532, 403, 592, 125, 152,  86, 459, 764, 502, 231, 276,\n",
       "       438, 583, 590,   0, 332, 627, 686, 283, 719,  74, 589, 133, 633,\n",
       "       375, 101, 593, 526, 319, 486, 661, 360, 701, 510, 424, 378, 474,\n",
       "       548, 343,  27, 714, 247,  38, 557, 656, 526, 460, 138, 753, 249,\n",
       "       579, 553, 465,  56, 149, 504, 561, 594, 242, 421, 670, 112, 151,\n",
       "       600, 321, 569, 785, 551,  33, 465,  84, 227,  72, 779, 761, 223,\n",
       "       329, 173, 472, 599, 300, 283, 578, 392, 395, 594, 748, 388, 457,\n",
       "       342, 515, 443, 265,  91, 557, 288, 541, 578, 340, 756, 462, 424,\n",
       "       481, 171, 777, 106, 622,  85, 428, 515, 343, 577, 115, 739, 579,\n",
       "         6, 434, 203, 454, 325, 427, 725,  26, 713, 380, 632, 409, 753,\n",
       "        66, 762, 744, 256, 694, 248, 256, 116, 509, 421,  98, 429, 324,\n",
       "       540, 317, 176, 347, 263, 743, 423,  36, 687, 224, 198, 288, 154,\n",
       "        38, 604, 133, 745, 176, 629, 285, 574, 741,  62, 665, 775,  25,\n",
       "       468, 513, 278, 300, 352, 618, 145, 169, 595, 724, 206,   1,  50,\n",
       "       636, 130, 498, 286, 621,  70, 181, 387,  41, 315, 217, 784, 688,\n",
       "       524, 672, 704, 225, 514, 580, 681, 132, 270, 758,  42, 510, 398,\n",
       "       571, 566, 487, 625, 677, 700, 155, 117, 596, 697, 110, 219, 426,\n",
       "       444, 638, 618, 335, 588, 106, 240, 295, 280, 502, 575, 147, 186,\n",
       "       780,  22, 291, 727, 700, 374,  27, 478, 422, 310, 662, 404, 475,\n",
       "       400,  52, 668, 237, 275, 692, 344, 159, 124, 371, 267, 291, 179,\n",
       "       289, 367,  20, 187, 283, 228, 396, 715, 642, 784, 680, 302, 500,\n",
       "       650, 782, 654, 534,  31, 620,   6, 450, 722, 606,  10, 647,  71,\n",
       "       470, 158, 236, 379, 605, 755, 723,  87, 626, 666, 597, 293, 437,\n",
       "       509, 738, 224, 467, 474, 193, 164, 258, 348, 318, 667, 735, 350,\n",
       "       251, 554, 555, 271, 675, 425, 539, 417, 442, 700, 645, 369, 538,\n",
       "       386, 239, 489,  61, 224, 788, 692,  68, 640, 754, 774, 281,  58,\n",
       "       531, 235, 492, 527, 405, 168, 729, 426, 415,  46, 269, 322, 644,\n",
       "       511, 544, 611, 643, 624,  68,  76,  73, 102,  37, 398, 162, 726,\n",
       "       114, 631, 613, 208, 651, 435, 669, 469, 301, 272,  60, 477,  48,\n",
       "       638, 675, 323, 226, 143,  28, 521, 127, 356, 100,  59,  24, 623,\n",
       "       207, 177, 135, 313, 771, 418, 776, 491, 267,  67, 685, 303, 263,\n",
       "       587, 791, 683, 542, 326, 293,  18, 607, 698, 530, 160, 628,  28,\n",
       "       229, 708, 453, 768, 385,  91, 436, 254, 397, 573, 718, 143, 153,\n",
       "        17, 187, 528, 139, 701, 298, 497, 121, 774, 189, 765, 603, 337,\n",
       "       359, 166, 273, 407, 586, 594, 635, 222, 192, 682, 389, 655, 548,\n",
       "       252, 664, 452, 783, 314, 117, 260, 540, 374, 163, 512, 274, 227,\n",
       "       593, 600, 142,  44, 232,  23, 349, 696,  12, 471, 287, 574, 235,\n",
       "       616, 408, 464, 234, 721,  55, 567, 285, 184, 541, 123, 746, 410,\n",
       "       171, 191, 223, 320, 445, 705, 441, 308, 433, 499, 477, 199, 477,\n",
       "       391, 331, 439,  62, 302,  64, 483, 345, 177, 141, 690, 144, 596,\n",
       "       399, 679, 466, 565, 140, 119, 572, 208, 702, 737, 151, 741, 734,\n",
       "        80,  89, 155, 766, 107, 585, 373, 414, 496, 193, 549, 523,  78,\n",
       "       122, 752, 178, 717, 148, 518, 757, 728, 455, 568, 146, 535, 175,\n",
       "       120, 318, 762, 523, 789, 195, 266, 181,  49, 253, 487, 162, 789,\n",
       "       770, 129, 550, 424, 451, 506,  57, 608, 786, 461, 259, 702, 560,\n",
       "       255, 338, 232, 449, 292, 484,  69, 448, 165, 215, 406, 134, 255,\n",
       "       282,  35, 503, 751, 452,  51, 501, 357,  54, 180, 630, 644, 490,\n",
       "       194, 339, 556, 366,  90, 659, 456,  30, 126, 116, 302, 368, 390,\n",
       "       432, 707,  47, 652, 704, 250, 494, 763, 778, 637, 330, 430, 170,\n",
       "        63, 216, 474, 395, 493, 100, 307, 341, 358, 361, 200,  75, 312,\n",
       "       382, 104, 210,  54, 326,   3, 712, 141, 671, 105, 213,  53,  15,\n",
       "       316, 250, 234, 530, 485, 212, 772, 328, 615, 383,  63, 653, 736,\n",
       "       103, 243, 128, 742, 299, 463, 297, 769, 749, 294, 304, 602, 469,\n",
       "       333, 698,  16, 419, 598, 711, 146,  88, 486, 264, 516, 617])"
      ]
     },
     "execution_count": 44,
     "metadata": {},
     "output_type": "execute_result"
    }
   ],
   "source": [
    "y=data.iloc[:,2].values\n",
    "y"
   ]
  },
  {
   "cell_type": "code",
   "execution_count": 45,
   "metadata": {},
   "outputs": [
    {
     "data": {
      "text/plain": [
       "array([695, 575, 233,  96, 261, 437, 537, 691, 353, 495,  77, 634,  39,\n",
       "       526,  72, 148, 750, 747, 787, 109,  13, 520,  45, 731, 386, 418,\n",
       "       197,   8,  60, 364, 684, 336, 503,  65, 505, 673,  81, 507, 619,\n",
       "       491, 740, 674, 658, 113, 745, 451, 144, 401, 458, 641, 468, 412,\n",
       "       525, 296, 545, 111,  82, 231,  16, 252, 284, 730, 136, 296, 202,\n",
       "       156, 610, 769, 166, 161,  93, 547, 258, 609, 279, 517, 767, 214,\n",
       "       552,   2,  65, 576, 582, 384,  92, 110,  43, 584, 629, 362, 730,\n",
       "       209, 591, 170, 578, 500, 204, 479, 356, 157, 210, 720, 365, 241,\n",
       "       709, 662, 305, 394,   9, 570, 759,  90, 244, 790, 731,  48, 118,\n",
       "       138, 645,  95, 581, 230, 150, 667, 678,  17,  94, 204, 399, 519,\n",
       "       167, 455, 733,  19, 508, 781, 208, 431, 290, 522, 334, 639, 699,\n",
       "       381, 220,  72, 789, 649, 115, 703, 440, 257, 108, 245, 683, 657,\n",
       "       749, 370, 337, 347, 131, 402,  40, 602, 311,   7, 346, 620, 185,\n",
       "       416, 327, 354,  97, 678, 734, 174, 262, 447, 760, 351, 345,  99,\n",
       "       289,  50, 487, 372, 563,  32,  52,  29, 676, 425, 720, 306, 182,\n",
       "       393, 211,  83,  89, 650, 428, 446, 376, 447, 355, 488, 213, 559,\n",
       "       201, 130, 482, 481,  11, 350, 413, 190, 411, 218, 732, 137, 460,\n",
       "       139, 553, 546, 349, 706,  79, 191, 172,  34, 692, 660, 420, 205,\n",
       "       246, 438, 363, 213, 280, 614,  21, 374, 716, 597, 476, 188, 431,\n",
       "       709, 282, 612,   5, 663, 159, 710, 562, 630, 689,   2, 446, 277,\n",
       "       684, 714, 167, 529, 221,  86, 345,  14, 564, 558, 203, 727, 268,\n",
       "       427, 582, 655,  98, 195, 473, 646, 480, 731, 693, 183, 533,   4,\n",
       "       308, 601, 648, 238, 196, 528, 654, 309, 536, 543, 103, 434, 377,\n",
       "       440, 773, 532, 403, 592, 125, 152,  86, 459, 764, 502, 231, 276,\n",
       "       438, 583, 590,   0, 332, 627, 686, 283, 719,  74, 589, 133, 633,\n",
       "       375, 101, 593, 526, 319, 486, 661, 360, 701, 510, 424, 378, 474,\n",
       "       548, 343,  27, 714, 247,  38, 557, 656, 526, 460, 138, 753, 249,\n",
       "       579, 553, 465,  56, 149, 504, 561, 594, 242, 421, 670, 112, 151,\n",
       "       600, 321, 569, 785, 551,  33, 465,  84, 227,  72, 779, 761, 223,\n",
       "       329, 173, 472, 599, 300, 283, 578, 392, 395, 594, 748, 388, 457,\n",
       "       342, 515, 443, 265,  91, 557, 288, 541, 578, 340, 756, 462, 424,\n",
       "       481, 171, 777, 106, 622,  85, 428, 515, 343, 577, 115, 739, 579,\n",
       "         6, 434, 203, 454, 325, 427, 725,  26, 713, 380, 632, 409, 753,\n",
       "        66, 762, 744, 256, 694, 248, 256, 116, 509, 421,  98, 429, 324,\n",
       "       540, 317, 176, 347, 263, 743, 423,  36, 687, 224, 198, 288, 154,\n",
       "        38, 604, 133, 745, 176, 629, 285, 574, 741,  62, 665, 775,  25,\n",
       "       468, 513, 278, 300, 352, 618, 145, 169, 595, 724, 206,   1,  50,\n",
       "       636, 130, 498, 286, 621,  70, 181, 387,  41, 315, 217, 784, 688,\n",
       "       524, 672, 704, 225, 514, 580, 681, 132, 270, 758,  42, 510, 398,\n",
       "       571, 566, 487, 625, 677, 700, 155, 117, 596, 697, 110, 219, 426,\n",
       "       444, 638, 618, 335, 588, 106, 240, 295, 280, 502, 575, 147, 186,\n",
       "       780,  22, 291, 727, 700, 374,  27, 478, 422, 310, 662, 404, 475,\n",
       "       400,  52, 668, 237, 275, 692, 344, 159, 124, 371, 267, 291, 179,\n",
       "       289, 367,  20, 187, 283, 228, 396, 715, 642, 784, 680, 302, 500,\n",
       "       650, 782, 654, 534,  31, 620,   6, 450, 722, 606,  10, 647,  71,\n",
       "       470, 158, 236, 379, 605, 755, 723,  87, 626, 666, 597, 293, 437,\n",
       "       509, 738, 224, 467, 474, 193, 164, 258, 348, 318, 667, 735, 350,\n",
       "       251, 554, 555, 271, 675, 425, 539, 417, 442, 700, 645, 369, 538,\n",
       "       386, 239, 489,  61, 224, 788, 692,  68, 640, 754, 774, 281,  58,\n",
       "       531, 235, 492, 527, 405, 168, 729, 426, 415,  46, 269, 322, 644,\n",
       "       511, 544, 611, 643, 624,  68,  76,  73, 102,  37, 398, 162, 726,\n",
       "       114, 631, 613, 208, 651, 435, 669, 469, 301, 272,  60, 477,  48,\n",
       "       638, 675, 323, 226, 143,  28, 521, 127, 356, 100,  59,  24, 623,\n",
       "       207, 177, 135, 313, 771, 418, 776, 491, 267,  67, 685, 303, 263,\n",
       "       587, 791, 683, 542, 326, 293,  18, 607, 698, 530, 160, 628,  28,\n",
       "       229, 708, 453, 768, 385,  91, 436, 254, 397, 573, 718, 143, 153,\n",
       "        17, 187, 528, 139, 701, 298, 497, 121, 774, 189, 765, 603, 337,\n",
       "       359, 166, 273, 407, 586, 594, 635, 222, 192, 682, 389, 655, 548,\n",
       "       252, 664, 452, 783, 314, 117, 260, 540, 374, 163, 512, 274, 227,\n",
       "       593, 600, 142,  44, 232,  23, 349, 696,  12, 471, 287, 574, 235,\n",
       "       616, 408, 464, 234, 721,  55, 567, 285, 184, 541, 123, 746, 410,\n",
       "       171, 191, 223, 320, 445, 705, 441, 308, 433, 499, 477, 199, 477,\n",
       "       391, 331, 439,  62, 302,  64, 483, 345, 177, 141, 690, 144, 596,\n",
       "       399, 679, 466, 565, 140, 119, 572, 208, 702, 737, 151, 741, 734,\n",
       "        80,  89, 155, 766, 107, 585, 373, 414, 496, 193, 549, 523,  78,\n",
       "       122, 752, 178, 717, 148, 518, 757, 728, 455, 568, 146, 535, 175,\n",
       "       120, 318, 762, 523, 789, 195, 266, 181,  49, 253, 487, 162, 789,\n",
       "       770, 129, 550, 424, 451, 506,  57, 608, 786, 461, 259, 702, 560,\n",
       "       255, 338, 232, 449, 292, 484,  69, 448, 165, 215, 406, 134, 255,\n",
       "       282,  35, 503, 751, 452,  51, 501, 357,  54, 180, 630, 644, 490,\n",
       "       194, 339, 556, 366,  90, 659, 456,  30, 126, 116, 302, 368, 390,\n",
       "       432, 707,  47, 652, 704, 250, 494, 763, 778, 637, 330, 430, 170,\n",
       "        63, 216, 474, 395, 493, 100, 307, 341, 358, 361, 200,  75, 312,\n",
       "       382, 104, 210,  54, 326,   3, 712, 141, 671, 105, 213,  53,  15,\n",
       "       316, 250, 234, 530, 485, 212, 772, 328, 615, 383,  63, 653, 736,\n",
       "       103, 243, 128, 742, 299, 463, 297, 769, 749, 294, 304, 602, 469,\n",
       "       333, 698,  16, 419, 598, 711, 146,  88, 486, 264, 516, 617],\n",
       "      dtype=int64)"
      ]
     },
     "execution_count": 45,
     "metadata": {},
     "output_type": "execute_result"
    }
   ],
   "source": [
    "one=LabelEncoder()\n",
    "y=one.fit_transform(y)\n",
    "\n",
    "y"
   ]
  },
  {
   "cell_type": "code",
   "execution_count": 46,
   "metadata": {},
   "outputs": [
    {
     "data": {
      "text/plain": [
       "array([[1.13798244, 1.06643588, 1.3258679 , ..., 1.49185658, 1.40977373,\n",
       "        0.79847582],\n",
       "       [0.92329614, 0.25015163, 0.79802097, ..., 1.32296716, 0.87854096,\n",
       "        1.37005287],\n",
       "       [0.51678022, 1.56673914, 0.70634276, ..., 0.553582  , 0.5832172 ,\n",
       "        1.46011956],\n",
       "       ...,\n",
       "       [0.71592375, 0.90844538, 0.5699823 , ..., 1.49185658, 0.60404986,\n",
       "        1.03057075],\n",
       "       [0.96089586, 0.40814213, 0.53849624, ..., 0.38469258, 0.5348021 ,\n",
       "        0.62180655],\n",
       "       [0.45534656, 1.56673914, 0.9827674 , ..., 0.553582  , 0.94798315,\n",
       "        0.65991169]])"
      ]
     },
     "execution_count": 46,
     "metadata": {},
     "output_type": "execute_result"
    }
   ],
   "source": [
    "from scipy.stats import zscore\n",
    "z=np.abs(zscore(data))\n",
    "z"
   ]
  },
  {
   "cell_type": "code",
   "execution_count": 48,
   "metadata": {},
   "outputs": [
    {
     "data": {
      "text/plain": [
       "array([[8.50297e+05, 5.00000e+00, 6.95000e+02, ..., 1.00000e+00,\n",
       "        8.79000e+02, 8.10000e+02],\n",
       "       [3.04721e+05, 3.00000e+00, 5.75000e+02, ..., 1.00000e+00,\n",
       "        7.30000e+02, 2.49000e+02],\n",
       "       [4.12317e+05, 1.00000e+00, 2.33000e+02, ..., 1.00000e+00,\n",
       "        3.00000e+02, 4.50000e+02],\n",
       "       ...,\n",
       "       [3.59608e+05, 2.00000e+00, 2.64000e+02, ..., 1.00000e+00,\n",
       "        3.39000e+02, 2.06000e+02],\n",
       "       [8.03426e+05, 4.00000e+00, 5.16000e+02, ..., 1.00000e+00,\n",
       "        6.59000e+02, 2.59000e+02],\n",
       "       [6.69618e+05, 1.00000e+00, 6.17000e+02, ..., 1.00000e+00,\n",
       "        7.83000e+02, 4.79000e+02]])"
      ]
     },
     "execution_count": 48,
     "metadata": {},
     "output_type": "execute_result"
    }
   ],
   "source": [
    "x=dst[:,0:8]\n",
    "x"
   ]
  },
  {
   "cell_type": "code",
   "execution_count": 49,
   "metadata": {},
   "outputs": [],
   "source": [
    "x_train,x_test,y_train,y_test=train_test_split(x,y,test_size=.22,random_state=42)"
   ]
  },
  {
   "cell_type": "code",
   "execution_count": 50,
   "metadata": {},
   "outputs": [],
   "source": [
    "lm=LinearRegression()"
   ]
  },
  {
   "cell_type": "code",
   "execution_count": 51,
   "metadata": {},
   "outputs": [
    {
     "data": {
      "text/plain": [
       "LinearRegression()"
      ]
     },
     "execution_count": 51,
     "metadata": {},
     "output_type": "execute_result"
    }
   ],
   "source": [
    "lm.fit(x_train,y_train)"
   ]
  },
  {
   "cell_type": "code",
   "execution_count": 52,
   "metadata": {},
   "outputs": [
    {
     "data": {
      "text/plain": [
       "0.9961495220651814"
      ]
     },
     "execution_count": 52,
     "metadata": {},
     "output_type": "execute_result"
    }
   ],
   "source": [
    "lm.score(x_train,y_train)"
   ]
  },
  {
   "cell_type": "code",
   "execution_count": 53,
   "metadata": {},
   "outputs": [
    {
     "data": {
      "text/plain": [
       "array([ 2.13973155e-06,  2.22712373e-01,  1.00265995e+00,  2.87763101e-02,\n",
       "        4.35650143e-03, -5.55111512e-17, -1.89771322e-03,  3.13974418e-04])"
      ]
     },
     "execution_count": 53,
     "metadata": {},
     "output_type": "execute_result"
    }
   ],
   "source": [
    "lm.coef_"
   ]
  },
  {
   "cell_type": "code",
   "execution_count": 54,
   "metadata": {},
   "outputs": [],
   "source": [
    "pred=lm.predict(x_test)"
   ]
  },
  {
   "cell_type": "code",
   "execution_count": 55,
   "metadata": {},
   "outputs": [
    {
     "name": "stdout",
     "output_type": "stream",
     "text": [
      "Predicted value and actual value [6.37567423e+02 1.86824792e+02 3.36117282e+02 3.95824315e+02\n",
      " 3.43488604e+02 3.23434802e+02 4.89004620e+02 1.53801706e+02\n",
      " 3.16720717e+02 2.07514268e+02 6.28871578e+01 7.66901406e+02\n",
      " 5.74015636e+01 6.51836538e+02 4.73567877e+02 5.03941932e+02\n",
      " 4.79702745e+02 5.58326755e+02 5.40219308e+02 2.83292849e+02\n",
      " 2.35387090e+02 7.33808025e+02 8.40565915e+01 2.93906181e+02\n",
      " 4.80362267e+02 4.37008240e+02 7.18471180e+02 6.01832362e+02\n",
      " 5.00211077e+01 7.53703925e+01 5.24093224e+02 5.21020401e+02\n",
      " 6.46787381e+02 5.81422911e+02 4.63230380e+02 9.05365830e+01\n",
      " 2.41113721e+01 7.03193069e+01 4.50936222e+02 2.51038098e+02\n",
      " 5.25152830e+02 2.02389330e+02 4.35616606e+02 7.37203739e+02\n",
      " 4.38601472e+02 1.93046530e+02 7.08346496e+02 4.66360203e+02\n",
      " 9.65301113e+01 5.84181454e+02 3.01466451e+02 7.85550936e+02\n",
      " 7.12407755e+02 5.35489278e+00 7.30499971e+02 6.81792418e+02\n",
      " 5.38768892e+02 7.62634325e+01 1.36788886e+02 6.77056606e+02\n",
      " 1.02018565e+02 5.45919579e+02 3.09949998e+02 1.29958744e+02\n",
      " 1.63396480e+02 3.13149045e+02 7.26471929e+02 4.60467260e+01\n",
      " 9.28439361e+01 6.60249203e+02 3.94112546e+02 6.87533106e+02\n",
      " 7.55587838e+02 3.58271417e+02 6.55154673e+02 2.36806467e+02\n",
      " 6.11622064e+02 4.90664543e+02 6.06159603e+02 4.58932237e+02\n",
      " 2.25422813e+02 6.10568545e+02 6.52440070e+02 7.68756483e+02\n",
      " 6.85276076e+02 6.67573342e+02 5.15002031e+02 2.68066792e+01\n",
      " 5.47926575e+02 5.93703489e+02 2.81001510e+02 2.24361154e+02\n",
      " 6.18238825e+02 7.30358002e+02 2.84690744e+02 1.14331917e+02\n",
      " 5.12678321e+02 6.28687337e+02 2.96513097e+02 2.07806079e+02\n",
      " 7.08819666e+02 5.76586890e+02 6.28664304e+01 6.89347262e+02\n",
      " 2.80200581e+02 4.25281889e+02 1.22602635e+02 2.12998551e+02\n",
      " 1.86199160e+02 2.87708890e+01 2.79385931e+02 1.38627525e+02\n",
      " 3.03939293e+02 6.90331850e+02 4.36240149e+01 2.55312013e+02\n",
      " 4.87935963e+02 7.41269663e+02 2.10188351e+01 5.36709476e+02\n",
      " 1.64088471e+02 3.78033734e+02 6.26779056e+02 6.82237666e+02\n",
      " 2.12044269e+02 2.87354366e+02 6.45416897e+02 3.49164372e+02\n",
      " 2.54677120e+02 3.08294960e+02 7.37807878e+02 1.48453084e+02\n",
      " 8.50112601e+01 8.63412237e+01 5.02215438e+02 1.08822104e+02\n",
      " 5.80038353e+02 1.90498305e+02 4.18208618e+02 2.58782005e+02\n",
      " 7.44750840e+02 7.07866477e+02 4.35328522e+02 7.30564636e+02\n",
      " 2.14018260e+02 8.87694303e+01 3.00652454e+02 4.77389405e+02\n",
      " 5.63594108e+02 7.26749420e+01 7.29498158e+02 3.36535195e+02\n",
      " 1.27287537e+02 6.48400743e+01 9.78103193e+01 5.73211663e+02\n",
      " 5.02308676e+02 2.67535381e+02 2.84376294e+02 2.55788453e+02\n",
      " 5.97252378e+02 5.91897616e+02 6.43368496e+02 5.09160400e+02\n",
      " 1.82273702e+02 4.36674370e+02 3.78315839e+02 2.06000917e+02\n",
      " 5.89077197e+02 2.30908603e+02 6.70019017e+02 6.97876841e-01\n",
      " 7.58784647e+02 6.99404831e+02 7.03671180e+01 1.50299698e+02\n",
      " 5.59991758e+02 2.76653484e+02 4.99416788e+02 6.73954220e+02\n",
      " 5.24508631e+02 4.68054031e+02 3.29119362e+02 2.40369117e+02\n",
      " 1.22932580e+02 4.30053081e+02 1.49055111e+02 3.22037763e+02\n",
      " 3.06494024e+02 1.93667682e+02 3.11664247e+02 1.51405013e+02\n",
      " 7.63891406e+01 6.49547065e+02 3.50064203e+02 8.50989114e+01\n",
      " 3.60417756e+02 2.00482578e+02 5.52399493e+02 5.50306918e+02\n",
      " 3.64093306e+02 2.90489862e+02 7.75051424e+02 2.89344611e+02\n",
      " 1.06992042e+02 2.92260986e+02 6.38226719e+00 1.25061080e+02\n",
      " 6.72899243e+02 1.18452212e+02 1.56400082e+02 6.40159279e+02\n",
      " 4.64385546e+01 7.01504982e+02 6.82979311e+01 6.60990152e+02\n",
      " 6.30908044e+02 6.10572902e+02 6.27925927e+02 1.55921839e+01] [638 189 337 398 343 323 489 155 318 208  64 767  58 653 474 503 480 560\n",
      " 540 283 237 734  84 295 482 438 720 602  51  75 526 522 645 580 465  89\n",
      "  24  71 452 252 526 204 438 736 440 195 707 467  98 585 302 786 714   6\n",
      " 731 684 539  77 139 679 103 545 310 130 164 313 726  49  93 662 394 688\n",
      " 755 359 654 238 611 491 605 459 226 610 655 769 686 668 516  28 548 593\n",
      " 283 224 618 732 285 116 512 629 296 208 708 579  63 689 281 426 124 213\n",
      " 185  30 280 140 304 690  43 256 487 742  22 536 165 380 628 684 213 289\n",
      " 647 347 253 308 738 148  86  88 502 111 581 190 418 258 745 709 436 731\n",
      " 215  90 302 476 565  74 729 337 128  66 100 574 502 267 284 255 597 593\n",
      " 644 511 181 435 377 207 590 231 670   1 759 698  70 151 562 277 499 675\n",
      " 524 469 329 240 122 431 149 321 307 192 312 151  76 650 350  85 360 201\n",
      " 555 552 364 291 776 291 107 293   7 126 672 119 156 639  47 702  68 661\n",
      " 631 612 630  18]\n"
     ]
    }
   ],
   "source": [
    "print('Predicted value and actual value', pred,y_test)"
   ]
  },
  {
   "cell_type": "code",
   "execution_count": 56,
   "metadata": {},
   "outputs": [
    {
     "name": "stdout",
     "output_type": "stream",
     "text": [
      "1.2002708068549495\n"
     ]
    }
   ],
   "source": [
    "from sklearn.metrics import mean_squared_error,r2_score\n",
    "print(mean_squared_error(pred,y_test))"
   ]
  },
  {
   "cell_type": "code",
   "execution_count": null,
   "metadata": {},
   "outputs": [],
   "source": []
  }
 ],
 "metadata": {
  "kernelspec": {
   "display_name": "Python 3",
   "language": "python",
   "name": "python3"
  },
  "language_info": {
   "codemirror_mode": {
    "name": "ipython",
    "version": 3
   },
   "file_extension": ".py",
   "mimetype": "text/x-python",
   "name": "python",
   "nbconvert_exporter": "python",
   "pygments_lexer": "ipython3",
   "version": "3.8.3"
  }
 },
 "nbformat": 4,
 "nbformat_minor": 4
}
